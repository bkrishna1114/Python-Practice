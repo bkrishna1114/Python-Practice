{
 "cells": [
  {
   "cell_type": "markdown",
   "id": "269c6e9a",
   "metadata": {},
   "source": [
    "### Python - W3Schools"
   ]
  },
  {
   "cell_type": "code",
   "execution_count": null,
   "id": "2e4ee7f2",
   "metadata": {},
   "outputs": [],
   "source": [
    "print('Hello World')"
   ]
  },
  {
   "cell_type": "markdown",
   "id": "2bf6e458",
   "metadata": {},
   "source": [
    "$$$ Indentation"
   ]
  },
  {
   "cell_type": "code",
   "execution_count": null,
   "id": "5e9d41f8",
   "metadata": {},
   "outputs": [],
   "source": [
    "if 10>2:\n",
    "    print('Balu is Man')"
   ]
  },
  {
   "cell_type": "markdown",
   "id": "c5e54477",
   "metadata": {},
   "source": [
    "Python variables"
   ]
  },
  {
   "cell_type": "code",
   "execution_count": null,
   "id": "c5948504",
   "metadata": {},
   "outputs": [],
   "source": [
    "a = 30\n",
    "b = 34\n",
    "\n",
    "if a > b:\n",
    "    print('{} is BIg'.format(a))\n",
    "else:\n",
    "    print('{} is Big'.format(b))"
   ]
  },
  {
   "cell_type": "markdown",
   "id": "718158fa",
   "metadata": {},
   "source": [
    "### Commmneting..\n",
    "Comments can be used to explain Python code.\n",
    "\n",
    "Comments can be used to make the code more readable.\n",
    "\n",
    "Comments can be used to prevent execution when testing code."
   ]
  },
  {
   "cell_type": "code",
   "execution_count": null,
   "id": "a8e84a2a",
   "metadata": {},
   "outputs": [],
   "source": [
    "# This is comment line this can written for the information purpose in python\n",
    "print('Balu is an idiot...')\n",
    "#print('This code not executed') # This code is prevented.."
   ]
  },
  {
   "cell_type": "markdown",
   "id": "d1ce682a",
   "metadata": {},
   "source": [
    "#### Multiline commenting"
   ]
  },
  {
   "cell_type": "code",
   "execution_count": null,
   "id": "62c0ecaa",
   "metadata": {},
   "outputs": [],
   "source": [
    "\"\"\" This is multiliane commentig\n",
    "this wll not executed..\n",
    "okay okay  \"\"\"\n",
    "print('this is python')"
   ]
  },
  {
   "cell_type": "markdown",
   "id": "93e2214b",
   "metadata": {},
   "source": [
    "### Python Variables...\n",
    "Variables are containers for storing data values.\n",
    "\n",
    "Python has no command for declaring a variable.\n",
    "\n",
    "A variable is created the moment you first assign a value to it."
   ]
  },
  {
   "cell_type": "code",
   "execution_count": null,
   "id": "cd9dd714",
   "metadata": {},
   "outputs": [],
   "source": [
    "x =  \"THis is not a value\"\n",
    "y = 56\n",
    "\n",
    "print(x,'     ',y)"
   ]
  },
  {
   "cell_type": "markdown",
   "id": "a822da91",
   "metadata": {},
   "source": [
    "### Casting...\n",
    "\n",
    "If you want to specify the data type of a variable, this can be done with casting."
   ]
  },
  {
   "cell_type": "code",
   "execution_count": null,
   "id": "1246d916",
   "metadata": {},
   "outputs": [],
   "source": [
    "a = 45\n",
    "print('This is intiger : ',int(a))\n",
    "print('This is float : ',float(a))\n",
    "print('This is str : ',str(a))"
   ]
  },
  {
   "cell_type": "code",
   "execution_count": null,
   "id": "5c3aff08",
   "metadata": {},
   "outputs": [],
   "source": [
    "type(a)"
   ]
  },
  {
   "cell_type": "code",
   "execution_count": null,
   "id": "b86c25ff",
   "metadata": {},
   "outputs": [],
   "source": [
    "type(str(a))"
   ]
  },
  {
   "cell_type": "code",
   "execution_count": null,
   "id": "d72f94b8",
   "metadata": {},
   "outputs": [],
   "source": [
    "type(str(a))"
   ]
  },
  {
   "cell_type": "markdown",
   "id": "6ea59fad",
   "metadata": {},
   "source": [
    "String Vatiable declare with double or sigle quotes.."
   ]
  },
  {
   "cell_type": "code",
   "execution_count": null,
   "id": "7ff7cbad",
   "metadata": {},
   "outputs": [],
   "source": [
    "a = 'balu'\n",
    "b=  \"Balu\"\n",
    "print(a)\n",
    "print(b)"
   ]
  },
  {
   "cell_type": "markdown",
   "id": "91d40255",
   "metadata": {},
   "source": [
    "python is case sensitive"
   ]
  },
  {
   "cell_type": "code",
   "execution_count": null,
   "id": "41a9cb28",
   "metadata": {},
   "outputs": [],
   "source": [
    "a  = 34\n",
    "A = \"balu\"\n",
    "print(a)"
   ]
  },
  {
   "cell_type": "markdown",
   "id": "bdd2daba",
   "metadata": {},
   "source": [
    "* A variable name must start with a letter or the underscore character\n",
    "* A variable name cannot start with a number\n",
    "* A variable name can only contain alpha-numeric characters and underscores (A-z, 0-9, and _ )\n",
    "* Variable names are case-sensitive (age, Age and AGE are three different variables)"
   ]
  },
  {
   "cell_type": "code",
   "execution_count": null,
   "id": "11ddedb4",
   "metadata": {},
   "outputs": [],
   "source": [
    "Age = 34\n",
    "age = 36\n",
    "_ag3 = 88\n",
    "a53age = 78"
   ]
  },
  {
   "cell_type": "code",
   "execution_count": null,
   "id": "9a0187ec",
   "metadata": {},
   "outputs": [],
   "source": [
    "print(_ag3)"
   ]
  },
  {
   "cell_type": "code",
   "execution_count": null,
   "id": "675822ac",
   "metadata": {},
   "outputs": [],
   "source": [
    "#Camel case variable \n",
    "myAge = 34\n",
    "#Pascal Case\n",
    "MyAge = 35\n",
    "#Snake case\n",
    "my_age = 34"
   ]
  },
  {
   "cell_type": "markdown",
   "id": "92400e77",
   "metadata": {},
   "source": [
    "Multivalue assigning"
   ]
  },
  {
   "cell_type": "code",
   "execution_count": null,
   "id": "cb544248",
   "metadata": {},
   "outputs": [],
   "source": [
    "a , b, c = \"Orange\",'Balana','Apple'\n",
    "a,b,c"
   ]
  },
  {
   "cell_type": "code",
   "execution_count": null,
   "id": "dea8d683",
   "metadata": {},
   "outputs": [],
   "source": [
    "type(a)"
   ]
  },
  {
   "cell_type": "markdown",
   "id": "14b8b1e0",
   "metadata": {},
   "source": [
    "One value to multiple..."
   ]
  },
  {
   "cell_type": "code",
   "execution_count": null,
   "id": "c8f0a7ee",
   "metadata": {},
   "outputs": [],
   "source": [
    "a = b =c  = 'Apple'"
   ]
  },
  {
   "cell_type": "code",
   "execution_count": null,
   "id": "fd512e0e",
   "metadata": {},
   "outputs": [],
   "source": [
    "a,b,c"
   ]
  },
  {
   "cell_type": "code",
   "execution_count": null,
   "id": "53503cfc",
   "metadata": {},
   "outputs": [],
   "source": [
    "#Unpack collections of lists , tuples.."
   ]
  },
  {
   "cell_type": "code",
   "execution_count": null,
   "id": "4bb70368",
   "metadata": {},
   "outputs": [],
   "source": [
    "x = ['Bala','Krishna','Baddi']\n",
    "first,middle,last = x\n",
    "first,middle,last"
   ]
  },
  {
   "cell_type": "code",
   "execution_count": null,
   "id": "efc8faa3",
   "metadata": {},
   "outputs": [],
   "source": [
    "x = {'Bala','Krishna','Baddi'}\n",
    "\n",
    "first,middle,last = x\n",
    "first"
   ]
  },
  {
   "cell_type": "code",
   "execution_count": null,
   "id": "f7108aab",
   "metadata": {},
   "outputs": [],
   "source": [
    "#print function...\n",
    "x = ['Bala','Krishna','Baddi']\n",
    "first,middle,last = x\n",
    "\n",
    "print(first,middle,last)"
   ]
  },
  {
   "cell_type": "code",
   "execution_count": null,
   "id": "b77fc180",
   "metadata": {},
   "outputs": [],
   "source": [
    "print(first + middle + last) # we can include spaces to seperate the values..."
   ]
  },
  {
   "cell_type": "code",
   "execution_count": null,
   "id": "b4abdfd1",
   "metadata": {},
   "outputs": [],
   "source": [
    "# print(first + ' age is ' + 25) this will gave you error...\n",
    "print(first + ' age is ',25)"
   ]
  },
  {
   "cell_type": "markdown",
   "id": "b08a9cdf",
   "metadata": {},
   "source": [
    "Global Variables...\n",
    "* Global variables can be used by everyone, both inside of functions and outside."
   ]
  },
  {
   "cell_type": "code",
   "execution_count": null,
   "id": "e7b461fb",
   "metadata": {},
   "outputs": [],
   "source": [
    "x = \"awsome\" #global variable...\n",
    "def func():\n",
    "    print(x)\n",
    "func()"
   ]
  },
  {
   "cell_type": "code",
   "execution_count": null,
   "id": "a9dede21",
   "metadata": {},
   "outputs": [],
   "source": [
    "x = \"awsome\" #global variable...\n",
    "def func():\n",
    "    print(x)\n",
    "    name = 'Bala'\n",
    "func()\n",
    "#print(name) # this will throw an error"
   ]
  },
  {
   "cell_type": "code",
   "execution_count": null,
   "id": "1cde4942",
   "metadata": {
    "scrolled": true
   },
   "outputs": [],
   "source": [
    "x = \"awsome\" #global variable...\n",
    "def func():\n",
    "    print(x)\n",
    "    global name\n",
    "    name = 'Bala'\n",
    "func()\n",
    "print(name) # this is now a gloabl variable..."
   ]
  },
  {
   "cell_type": "markdown",
   "id": "703dc8cb",
   "metadata": {},
   "source": [
    "## Python Data Types.."
   ]
  },
  {
   "cell_type": "markdown",
   "id": "4a7243bf",
   "metadata": {},
   "source": [
    "BuitIn Data Types..\n",
    "\n",
    "* Text Type:\tstr\n",
    "* Numeric Types:\tint, float, complex\n",
    "* Sequence Types:\tlist, tuple, range\n",
    "* Mapping Type:\tdict\n",
    "* Set Types:\tset, frozenset\n",
    "* Boolean Type:\tbool\n",
    "* Binary Types:\tbytes, bytearray, memoryview\n",
    "* None Type:\tNoneType"
   ]
  },
  {
   "cell_type": "markdown",
   "id": "48cab8b6",
   "metadata": {},
   "source": [
    "### Text data type"
   ]
  },
  {
   "cell_type": "code",
   "execution_count": null,
   "id": "c7b31607",
   "metadata": {},
   "outputs": [],
   "source": [
    "#string data type..\n",
    "x = 'Hello world'"
   ]
  },
  {
   "cell_type": "code",
   "execution_count": null,
   "id": "186be597",
   "metadata": {},
   "outputs": [],
   "source": [
    "# int data type..\n",
    "x = 34\n",
    "print(x,type(x))"
   ]
  },
  {
   "cell_type": "code",
   "execution_count": null,
   "id": "99e6b616",
   "metadata": {},
   "outputs": [],
   "source": [
    "# foat data type..\n",
    "x = 34.55\n",
    "print(x,type(x))"
   ]
  },
  {
   "cell_type": "code",
   "execution_count": null,
   "id": "962e6060",
   "metadata": {},
   "outputs": [],
   "source": [
    "# int data type..\n",
    "x = 1j\n",
    "print(x,type(x))"
   ]
  },
  {
   "cell_type": "code",
   "execution_count": null,
   "id": "6598f8d4",
   "metadata": {},
   "outputs": [],
   "source": [
    "j = 34\n",
    "j*2  # here j is the 34 thie is complex number..."
   ]
  },
  {
   "cell_type": "code",
   "execution_count": null,
   "id": "3a778633",
   "metadata": {},
   "outputs": [],
   "source": [
    "#List data type...\n",
    "\n",
    "x = ['bala age is',34]\n",
    "print(x,'    ',type(x))"
   ]
  },
  {
   "cell_type": "code",
   "execution_count": null,
   "id": "26c066f3",
   "metadata": {},
   "outputs": [],
   "source": [
    "#tuple  data type...\n",
    "\n",
    "x = ('bala age is',34)\n",
    "print(x,'    ',type(x))"
   ]
  },
  {
   "cell_type": "code",
   "execution_count": null,
   "id": "81deac94",
   "metadata": {},
   "outputs": [],
   "source": [
    "#range data type...\n",
    "\n",
    "x = range(6)\n",
    "print(x,'    ',type(x))"
   ]
  },
  {
   "cell_type": "code",
   "execution_count": null,
   "id": "1b3df38b",
   "metadata": {},
   "outputs": [],
   "source": [
    "#List data type...\n",
    "\n",
    "x = {'bala age is',34}\n",
    "print(x,'    ',type(x))"
   ]
  },
  {
   "cell_type": "code",
   "execution_count": null,
   "id": "15e79106",
   "metadata": {},
   "outputs": [],
   "source": [
    "#set data type...\n",
    "\n",
    "x = {3.5,3,45,6,2,656,4,444,4,4,4,4}\n",
    "print(x,'    ',type(x))"
   ]
  },
  {
   "cell_type": "code",
   "execution_count": null,
   "id": "cff656ea",
   "metadata": {},
   "outputs": [],
   "source": [
    "#frozenset data type...\n",
    "\n",
    "x =frozenset({3.5,3,45,6,2,656,4,444,4,4,4,4})\n",
    "print(x,'    ',type(x))"
   ]
  },
  {
   "cell_type": "code",
   "execution_count": null,
   "id": "53543fc9",
   "metadata": {},
   "outputs": [],
   "source": [
    "## Boolean type..\n",
    "x = True\n",
    "x+1 # true is exual to 1"
   ]
  },
  {
   "cell_type": "code",
   "execution_count": null,
   "id": "b13143f3",
   "metadata": {},
   "outputs": [],
   "source": [
    "# bytes..\n",
    "x = b'34'\n",
    "print(x,'    ',type(x))"
   ]
  },
  {
   "cell_type": "code",
   "execution_count": null,
   "id": "be411bf5",
   "metadata": {},
   "outputs": [],
   "source": [
    "# bytesarray..\n",
    "x = bytearray(10)\n",
    "print(x,'    ',type(x))"
   ]
  },
  {
   "cell_type": "code",
   "execution_count": null,
   "id": "90d88366",
   "metadata": {},
   "outputs": [],
   "source": [
    "# Memoryview..\n",
    "x = memoryview(bytes(10))\n",
    "print(x,'    ',type(x))"
   ]
  },
  {
   "cell_type": "code",
   "execution_count": null,
   "id": "f228be6d",
   "metadata": {},
   "outputs": [],
   "source": [
    "# bytesarray..\n",
    "x =None\n",
    "print(x,'    ',type(x))"
   ]
  },
  {
   "cell_type": "code",
   "execution_count": null,
   "id": "07af3998",
   "metadata": {},
   "outputs": [],
   "source": [
    "#settgin up a perfect datatype in python..\n",
    "\n",
    "x = 34\n",
    "\n",
    "print(int(x), '     ',type(int(x)))\n",
    "print(float(x), '     ',type(float(x)))\n",
    "print(complex(x), '     ',type(complex(x)))\n",
    "print(list(range(x-3)), '     ',type(list(range(x))))\n",
    "print(tuple(range(x-5)), '     ',type(tuple(range(x))))\n",
    "print(range(x), '     ',type(range(x)))\n",
    "print(dict(age=x), '     ',type(dict(age=x)))\n",
    "print(set(range(x-20)), '     ',type(set(range(x))))\n",
    "print(frozenset(range(x-20)), '     ',type(frozenset(range(x))))\n",
    "print(bool(x), '     ',type(bool(x)))\n",
    "print(bytes('aslkdjf','utf-8'), '     ',type(bytes(x)))\n",
    "print(bytearray(x), '     ',type(bytearray(x)))\n",
    "print(memoryview(bytes(x)), '     ',type(memoryview(bytes(x))))"
   ]
  },
  {
   "cell_type": "markdown",
   "id": "7f714281",
   "metadata": {},
   "source": [
    "### Python Numbers..."
   ]
  },
  {
   "cell_type": "code",
   "execution_count": null,
   "id": "cd211449",
   "metadata": {},
   "outputs": [],
   "source": [
    "# int number...\n",
    "a = 34\n",
    "b = 23\n",
    "c = 56\n",
    "print(a,b,c)"
   ]
  },
  {
   "cell_type": "code",
   "execution_count": null,
   "id": "2641a65c",
   "metadata": {},
   "outputs": [],
   "source": [
    "#Float...numbers...\n",
    "a = 34.4\n",
    "b = 5.5\n",
    "c = 456.4e10\n",
    "print(c)\n",
    "print(type(c))"
   ]
  },
  {
   "cell_type": "code",
   "execution_count": null,
   "id": "955aaf77",
   "metadata": {},
   "outputs": [],
   "source": [
    "#complex numbers...\n",
    "j = 10 \n",
    "\n",
    "print(5j)  # j is an imaginary part in the complex numbers...\n",
    "print(5j- j)"
   ]
  },
  {
   "cell_type": "markdown",
   "id": "24846c69",
   "metadata": {},
   "source": [
    "#### Random Numbers..."
   ]
  },
  {
   "cell_type": "code",
   "execution_count": null,
   "id": "e36d08e6",
   "metadata": {},
   "outputs": [],
   "source": [
    "import random\n",
    "\n",
    "print(random.randrange(-500,500)) #select -500 number from 5 to 500"
   ]
  },
  {
   "cell_type": "markdown",
   "id": "ada2421e",
   "metadata": {},
   "source": [
    "#### Casting"
   ]
  },
  {
   "cell_type": "code",
   "execution_count": null,
   "id": "555984f2",
   "metadata": {},
   "outputs": [],
   "source": [
    "a = 34.5\n",
    "\n",
    "print(type(a))"
   ]
  },
  {
   "cell_type": "code",
   "execution_count": null,
   "id": "75d66187",
   "metadata": {},
   "outputs": [],
   "source": [
    "print(type(int(a)))"
   ]
  },
  {
   "cell_type": "code",
   "execution_count": null,
   "id": "91b9eb2f",
   "metadata": {},
   "outputs": [],
   "source": [
    "b = 34\n",
    "\n",
    "float(b)"
   ]
  },
  {
   "cell_type": "code",
   "execution_count": null,
   "id": "5b1b1e25",
   "metadata": {},
   "outputs": [],
   "source": [
    "#strring...datatypes... casting...\n",
    "a = a +b\n",
    "print(type(a))\n",
    "\n",
    "print(type(str(a))) #now its a string "
   ]
  },
  {
   "cell_type": "markdown",
   "id": "58b5c72e",
   "metadata": {},
   "source": [
    "### Python strings.."
   ]
  },
  {
   "cell_type": "code",
   "execution_count": null,
   "id": "f8afb6a5",
   "metadata": {},
   "outputs": [],
   "source": [
    "a = 'Bala is a good man'\n",
    "print(a)"
   ]
  },
  {
   "cell_type": "code",
   "execution_count": null,
   "id": "8e7e8649",
   "metadata": {},
   "outputs": [],
   "source": [
    "# Multiline string....\n",
    "\n",
    "a = \"\"\"Bala is good boy \n",
    "and this is great thing\n",
    "ever he had \"\"\"\n",
    "print(a)"
   ]
  },
  {
   "cell_type": "code",
   "execution_count": null,
   "id": "2429efa7",
   "metadata": {},
   "outputs": [],
   "source": [
    "#strings are Arrays...\n",
    "a[0]"
   ]
  },
  {
   "cell_type": "code",
   "execution_count": null,
   "id": "964b1e63",
   "metadata": {},
   "outputs": [],
   "source": [
    "a[-4]"
   ]
  },
  {
   "cell_type": "code",
   "execution_count": null,
   "id": "6fc7f18a",
   "metadata": {},
   "outputs": [],
   "source": [
    "a[::-1]"
   ]
  },
  {
   "cell_type": "code",
   "execution_count": null,
   "id": "5182286c",
   "metadata": {},
   "outputs": [],
   "source": [
    "len(a)"
   ]
  },
  {
   "cell_type": "code",
   "execution_count": null,
   "id": "4643e9c6",
   "metadata": {},
   "outputs": [],
   "source": [
    "if 'Bala' in a:\n",
    "    print('Balu')"
   ]
  },
  {
   "cell_type": "code",
   "execution_count": null,
   "id": "28e5bc7b",
   "metadata": {},
   "outputs": [],
   "source": [
    "if 'Balu' not in a :\n",
    "    print('Balu not here')"
   ]
  },
  {
   "cell_type": "markdown",
   "id": "83c6864f",
   "metadata": {},
   "source": [
    "#### Slicing"
   ]
  },
  {
   "cell_type": "code",
   "execution_count": null,
   "id": "69932088",
   "metadata": {},
   "outputs": [],
   "source": [
    "#slicing is the specifing the index range of array...\n",
    "print(a)\n",
    "\n",
    "print(a[0:18]) # This will print the next line.."
   ]
  },
  {
   "cell_type": "code",
   "execution_count": null,
   "id": "546d4423",
   "metadata": {},
   "outputs": [],
   "source": [
    "for c in a:\n",
    "    print(c,end='')\n",
    "    if c=='\\n':\n",
    "        break;"
   ]
  },
  {
   "cell_type": "code",
   "execution_count": null,
   "id": "99f71f21",
   "metadata": {},
   "outputs": [],
   "source": [
    "# Negitive Indexing...\n",
    "\n",
    "print(a[-13:-1])"
   ]
  },
  {
   "cell_type": "markdown",
   "id": "0e2fb20f",
   "metadata": {},
   "source": [
    "##### Modify strings..."
   ]
  },
  {
   "cell_type": "code",
   "execution_count": null,
   "id": "5372db13",
   "metadata": {},
   "outputs": [],
   "source": [
    "### Upper CASE\n",
    "print(a)\n",
    "print('\\n\\n'+a.upper())"
   ]
  },
  {
   "cell_type": "code",
   "execution_count": null,
   "id": "654459c9",
   "metadata": {},
   "outputs": [],
   "source": [
    "#STRIP\n",
    "\n",
    "# this method is used to remove the white space in the python string...from begining or end\n",
    "\n",
    "print(a.strip())"
   ]
  },
  {
   "cell_type": "code",
   "execution_count": null,
   "id": "ebfddde4",
   "metadata": {},
   "outputs": [],
   "source": [
    "a = \"                  Bala  this is the best man raj                   \""
   ]
  },
  {
   "cell_type": "code",
   "execution_count": null,
   "id": "2c00e1a5",
   "metadata": {},
   "outputs": [],
   "source": [
    "print(a.strip())"
   ]
  },
  {
   "cell_type": "code",
   "execution_count": null,
   "id": "aefe510c",
   "metadata": {},
   "outputs": [],
   "source": [
    "#replace the string  ... with the replace method..\n",
    "a= a.replace('Bala','Balu').strip()"
   ]
  },
  {
   "cell_type": "code",
   "execution_count": null,
   "id": "9391f297",
   "metadata": {},
   "outputs": [],
   "source": [
    "a"
   ]
  },
  {
   "cell_type": "code",
   "execution_count": null,
   "id": "1b10c700",
   "metadata": {},
   "outputs": [],
   "source": [
    "#splitis used split the string into list ..\n",
    "l = a.split(' ')"
   ]
  },
  {
   "cell_type": "code",
   "execution_count": null,
   "id": "6449bf3a",
   "metadata": {},
   "outputs": [],
   "source": [
    "l"
   ]
  },
  {
   "cell_type": "code",
   "execution_count": null,
   "id": "a33d91ae",
   "metadata": {},
   "outputs": [],
   "source": [
    "#concatenate strings....in python...\n",
    "a = 'Bala'\n",
    "b = 'Krishna'\n",
    "c = a + b"
   ]
  },
  {
   "cell_type": "code",
   "execution_count": null,
   "id": "142866c6",
   "metadata": {},
   "outputs": [],
   "source": [
    "c"
   ]
  },
  {
   "cell_type": "code",
   "execution_count": null,
   "id": "fdd60650",
   "metadata": {},
   "outputs": [],
   "source": [
    "c = a\n",
    "a = 'Balu'\n",
    "print(c)"
   ]
  },
  {
   "cell_type": "code",
   "execution_count": null,
   "id": "63bcf06d",
   "metadata": {},
   "outputs": [],
   "source": [
    "#format strings in python...\n",
    "a = 'Balu is male and age is {}'\n",
    "\n",
    "print(a.format(25))"
   ]
  },
  {
   "cell_type": "code",
   "execution_count": null,
   "id": "9ce00496",
   "metadata": {},
   "outputs": [],
   "source": [
    "#format txt with list..\n",
    "\n",
    "l = [25,'MCA',165]\n",
    "\n",
    "print('Balu is {0} , he is {2} cm hight and his qualification is {1}'.format(l[0],l[1],l[2]))"
   ]
  },
  {
   "cell_type": "code",
   "execution_count": null,
   "id": "8ff08521",
   "metadata": {},
   "outputs": [],
   "source": [
    "#escape character in python...\n",
    "#txt = \"We are the so-called \"Vikings\" from the north.\"\n",
    "txt = \"We are the so-called \\\"Vikings\\\" from the north.\" # \\ is used the excape the error..\n",
    "txt"
   ]
  },
  {
   "cell_type": "code",
   "execution_count": null,
   "id": "1781e4c3",
   "metadata": {},
   "outputs": [],
   "source": [
    "txt = \"We are the so-called \\\"Vikings\\\" from the north.//\"\n",
    "txt"
   ]
  },
  {
   "cell_type": "code",
   "execution_count": null,
   "id": "358d8a85",
   "metadata": {},
   "outputs": [],
   "source": [
    "txt = \"We are the so-called \\\"Vikings\\\" from the north. \\n\"\n",
    "txt"
   ]
  },
  {
   "cell_type": "markdown",
   "id": "fbf19a36",
   "metadata": {},
   "source": [
    "#### String Methods..."
   ]
  },
  {
   "cell_type": "code",
   "execution_count": null,
   "id": "4fd21954",
   "metadata": {},
   "outputs": [],
   "source": [
    "a = 'Balu is Data Scientist..'"
   ]
  },
  {
   "cell_type": "code",
   "execution_count": null,
   "id": "8c0200c3",
   "metadata": {},
   "outputs": [],
   "source": [
    "a.capitalize()"
   ]
  },
  {
   "cell_type": "code",
   "execution_count": null,
   "id": "28a9d8b7",
   "metadata": {},
   "outputs": [],
   "source": [
    "a.casefold()"
   ]
  },
  {
   "cell_type": "code",
   "execution_count": null,
   "id": "665ee541",
   "metadata": {},
   "outputs": [],
   "source": [
    "a = a.upper()\n",
    "a"
   ]
  },
  {
   "cell_type": "code",
   "execution_count": null,
   "id": "0a30ce27",
   "metadata": {},
   "outputs": [],
   "source": [
    "a=a.casefold()\n",
    "a"
   ]
  },
  {
   "cell_type": "code",
   "execution_count": null,
   "id": "c8888e6f",
   "metadata": {},
   "outputs": [],
   "source": [
    "a.center(10)"
   ]
  },
  {
   "cell_type": "code",
   "execution_count": null,
   "id": "c519b067",
   "metadata": {},
   "outputs": [],
   "source": [
    "a.count('a') #counts the values from the string..."
   ]
  },
  {
   "cell_type": "code",
   "execution_count": null,
   "id": "31533bf8",
   "metadata": {},
   "outputs": [],
   "source": [
    "a"
   ]
  },
  {
   "cell_type": "code",
   "execution_count": null,
   "id": "55d53d14",
   "metadata": {},
   "outputs": [],
   "source": [
    "a.encode()"
   ]
  },
  {
   "cell_type": "code",
   "execution_count": null,
   "id": "513225d2",
   "metadata": {},
   "outputs": [],
   "source": [
    "a.endswith('bala')"
   ]
  },
  {
   "cell_type": "code",
   "execution_count": null,
   "id": "23e03adc",
   "metadata": {},
   "outputs": [],
   "source": [
    "a.endswith('..')"
   ]
  },
  {
   "cell_type": "code",
   "execution_count": null,
   "id": "5402d2f7",
   "metadata": {},
   "outputs": [],
   "source": [
    "a.expandtabs(10)"
   ]
  },
  {
   "cell_type": "code",
   "execution_count": null,
   "id": "b8f7d53a",
   "metadata": {},
   "outputs": [],
   "source": [
    "a.find('is')"
   ]
  },
  {
   "cell_type": "code",
   "execution_count": null,
   "id": "8cdc8549",
   "metadata": {},
   "outputs": [],
   "source": [
    "a.format('56')"
   ]
  },
  {
   "cell_type": "code",
   "execution_count": null,
   "id": "f68f4885",
   "metadata": {},
   "outputs": [],
   "source": [
    "a.format_map('hai')"
   ]
  },
  {
   "cell_type": "code",
   "execution_count": null,
   "id": "19c52432",
   "metadata": {},
   "outputs": [],
   "source": [
    "a.isalnum()"
   ]
  },
  {
   "cell_type": "code",
   "execution_count": null,
   "id": "524b82d9",
   "metadata": {},
   "outputs": [],
   "source": [
    "a.isalpha()"
   ]
  },
  {
   "cell_type": "code",
   "execution_count": null,
   "id": "822bb3f4",
   "metadata": {},
   "outputs": [],
   "source": [
    "a.isascii()"
   ]
  },
  {
   "cell_type": "code",
   "execution_count": null,
   "id": "81c48bd8",
   "metadata": {},
   "outputs": [],
   "source": [
    "a.isdecimal()"
   ]
  },
  {
   "cell_type": "code",
   "execution_count": null,
   "id": "2759be10",
   "metadata": {},
   "outputs": [],
   "source": [
    "a.isdigit()"
   ]
  },
  {
   "cell_type": "code",
   "execution_count": null,
   "id": "ae380919",
   "metadata": {},
   "outputs": [],
   "source": [
    "a.isidentifier()"
   ]
  },
  {
   "cell_type": "code",
   "execution_count": null,
   "id": "e118e1b3",
   "metadata": {},
   "outputs": [],
   "source": [
    "a.islower()"
   ]
  },
  {
   "cell_type": "code",
   "execution_count": null,
   "id": "3000c383",
   "metadata": {},
   "outputs": [],
   "source": [
    "a.isnumeric()"
   ]
  },
  {
   "cell_type": "code",
   "execution_count": null,
   "id": "2ea7dbb6",
   "metadata": {},
   "outputs": [],
   "source": [
    "a.isprintable()"
   ]
  },
  {
   "cell_type": "code",
   "execution_count": null,
   "id": "6e5c302c",
   "metadata": {},
   "outputs": [],
   "source": [
    "a.isspace()"
   ]
  },
  {
   "cell_type": "code",
   "execution_count": null,
   "id": "8c579d4f",
   "metadata": {},
   "outputs": [],
   "source": [
    "a.istitle()"
   ]
  },
  {
   "cell_type": "code",
   "execution_count": null,
   "id": "c0e76de8",
   "metadata": {},
   "outputs": [],
   "source": [
    "a.isupper()"
   ]
  },
  {
   "cell_type": "code",
   "execution_count": null,
   "id": "8c4d049e",
   "metadata": {},
   "outputs": [],
   "source": [
    "a\n"
   ]
  },
  {
   "cell_type": "code",
   "execution_count": null,
   "id": "2f82569f",
   "metadata": {},
   "outputs": [],
   "source": [
    "a.join('A ')"
   ]
  },
  {
   "cell_type": "code",
   "execution_count": null,
   "id": "116a5072",
   "metadata": {},
   "outputs": [],
   "source": [
    "a.ljust(3) # ^^^"
   ]
  },
  {
   "cell_type": "code",
   "execution_count": null,
   "id": "2dfae349",
   "metadata": {},
   "outputs": [],
   "source": [
    "a.lstrip()"
   ]
  },
  {
   "cell_type": "code",
   "execution_count": null,
   "id": "aed5af33",
   "metadata": {},
   "outputs": [],
   "source": [
    "a = '    ' + a +\"        \"\n",
    "a"
   ]
  },
  {
   "cell_type": "code",
   "execution_count": null,
   "id": "226ddf0f",
   "metadata": {},
   "outputs": [],
   "source": [
    "a.lstrip() # removes only left spaces..."
   ]
  },
  {
   "cell_type": "code",
   "execution_count": null,
   "id": "5a00e6bb",
   "metadata": {},
   "outputs": [],
   "source": [
    "a.maketrans('bala')"
   ]
  },
  {
   "cell_type": "code",
   "execution_count": null,
   "id": "01448dcf",
   "metadata": {},
   "outputs": [],
   "source": [
    "a = 45.4545\n",
    "abs(a)"
   ]
  },
  {
   "cell_type": "code",
   "execution_count": null,
   "id": "1553607f",
   "metadata": {},
   "outputs": [],
   "source": [
    "len([345,43,45])"
   ]
  },
  {
   "cell_type": "code",
   "execution_count": null,
   "id": "59875ecf",
   "metadata": {},
   "outputs": [],
   "source": [
    "a"
   ]
  },
  {
   "cell_type": "code",
   "execution_count": null,
   "id": "7d7ba6e3",
   "metadata": {},
   "outputs": [],
   "source": [
    "a = 'Balu Is A Good Boy'\n",
    "a.swapcase()"
   ]
  },
  {
   "cell_type": "code",
   "execution_count": null,
   "id": "50fba878",
   "metadata": {},
   "outputs": [],
   "source": [
    "a.zfill(10)"
   ]
  },
  {
   "cell_type": "code",
   "execution_count": null,
   "id": "90a49689",
   "metadata": {},
   "outputs": [],
   "source": [
    "a.zfill(4)"
   ]
  },
  {
   "cell_type": "code",
   "execution_count": null,
   "id": "551b4ccd",
   "metadata": {},
   "outputs": [],
   "source": [
    "a.translate('telugu')"
   ]
  },
  {
   "cell_type": "code",
   "execution_count": null,
   "id": "8801bb7c",
   "metadata": {},
   "outputs": [],
   "source": [
    "a.title()"
   ]
  },
  {
   "cell_type": "code",
   "execution_count": null,
   "id": "61579f40",
   "metadata": {},
   "outputs": [],
   "source": [
    "a.splitlines()"
   ]
  },
  {
   "cell_type": "code",
   "execution_count": null,
   "id": "0c0f830a",
   "metadata": {},
   "outputs": [],
   "source": [
    "a = \"\"\" This is multiliane commentig\n",
    "this wll not executed..\n",
    "okay okay  \"\"\"\n",
    "a"
   ]
  },
  {
   "cell_type": "code",
   "execution_count": null,
   "id": "90c795a2",
   "metadata": {},
   "outputs": [],
   "source": [
    "a.splitlines()"
   ]
  },
  {
   "cell_type": "code",
   "execution_count": null,
   "id": "377fea99",
   "metadata": {},
   "outputs": [],
   "source": [
    "a.rfind('this')"
   ]
  },
  {
   "cell_type": "code",
   "execution_count": null,
   "id": "dc2ca1aa",
   "metadata": {},
   "outputs": [],
   "source": [
    "a.rindex('this')"
   ]
  },
  {
   "cell_type": "code",
   "execution_count": null,
   "id": "142a1390",
   "metadata": {},
   "outputs": [],
   "source": [
    "a[30:]"
   ]
  },
  {
   "cell_type": "markdown",
   "id": "a37e699e",
   "metadata": {},
   "source": [
    "#### Booleans\n",
    "Almost any value is evaluated to True if it has some sort of content.\n",
    "\n",
    "Any string is True, except empty strings.\n",
    "\n",
    "Any number is True, except 0.\n",
    "\n",
    "Any list, tuple, set, and dictionary are True, except empty ones."
   ]
  },
  {
   "cell_type": "code",
   "execution_count": null,
   "id": "4b5baa2f",
   "metadata": {},
   "outputs": [],
   "source": [
    "bool('bala is')"
   ]
  },
  {
   "cell_type": "code",
   "execution_count": null,
   "id": "4c4319bd",
   "metadata": {},
   "outputs": [],
   "source": [
    "bool(\"\") #empty string is false.."
   ]
  },
  {
   "cell_type": "code",
   "execution_count": null,
   "id": "1acf21e4",
   "metadata": {},
   "outputs": [],
   "source": [
    "bool([1,2,32,3,5])"
   ]
  },
  {
   "cell_type": "code",
   "execution_count": null,
   "id": "f5326603",
   "metadata": {},
   "outputs": [],
   "source": [
    "bool(0)"
   ]
  },
  {
   "cell_type": "code",
   "execution_count": null,
   "id": "b9b7ea98",
   "metadata": {},
   "outputs": [],
   "source": [
    "bool(000000)"
   ]
  },
  {
   "cell_type": "code",
   "execution_count": null,
   "id": "fca1a599",
   "metadata": {},
   "outputs": [],
   "source": [
    "bool(None)"
   ]
  },
  {
   "cell_type": "code",
   "execution_count": null,
   "id": "286e0c18",
   "metadata": {},
   "outputs": [],
   "source": [
    "bool({})"
   ]
  },
  {
   "cell_type": "code",
   "execution_count": null,
   "id": "5614fe15",
   "metadata": {},
   "outputs": [],
   "source": [
    "class myclass():\n",
    "    def __len__(self):\n",
    "        return 0\n",
    "my_obj = myclass()\n",
    "bool(my_obj)"
   ]
  },
  {
   "cell_type": "code",
   "execution_count": null,
   "id": "cb90c86f",
   "metadata": {},
   "outputs": [],
   "source": [
    "##Functions can run a boolean....\n",
    "\n",
    "def my_function():\n",
    "    return True\n",
    "\n",
    "bool(my_function())"
   ]
  },
  {
   "cell_type": "code",
   "execution_count": null,
   "id": "29407e1c",
   "metadata": {},
   "outputs": [],
   "source": [
    "if my_function():\n",
    "    print('Yes')\n",
    "else:\n",
    "    print('No')"
   ]
  },
  {
   "cell_type": "markdown",
   "id": "6c317dab",
   "metadata": {},
   "source": [
    "#### Check the which data type the input data is..."
   ]
  },
  {
   "cell_type": "code",
   "execution_count": null,
   "id": "b409d64d",
   "metadata": {},
   "outputs": [],
   "source": [
    "#check if object is interger or not...\n",
    "x = 200\n",
    "print(isinstance(x,int))"
   ]
  },
  {
   "cell_type": "code",
   "execution_count": null,
   "id": "fba12153",
   "metadata": {},
   "outputs": [],
   "source": [
    "a = 'laksdlkhaslas'\n",
    "isinstance(a,str)"
   ]
  },
  {
   "cell_type": "markdown",
   "id": "36481fd5",
   "metadata": {},
   "source": [
    "### Python operators\n",
    "Operators are used to perform operations on variables and values."
   ]
  },
  {
   "cell_type": "markdown",
   "id": "8303bfd1",
   "metadata": {},
   "source": [
    "Arthmetic Operatos.."
   ]
  },
  {
   "cell_type": "code",
   "execution_count": null,
   "id": "75a9ddba",
   "metadata": {},
   "outputs": [],
   "source": [
    "### Addition...\n",
    " \n",
    "a = 10\n",
    "b = 40\n",
    "\n",
    "print(a + b)"
   ]
  },
  {
   "cell_type": "code",
   "execution_count": null,
   "id": "719a55c1",
   "metadata": {},
   "outputs": [],
   "source": [
    "### Substraction...\n",
    "\n",
    "print(a - b)"
   ]
  },
  {
   "cell_type": "code",
   "execution_count": null,
   "id": "9d7accdf",
   "metadata": {},
   "outputs": [],
   "source": [
    "### Multiplication...\n",
    "\n",
    "print(a * b)"
   ]
  },
  {
   "cell_type": "code",
   "execution_count": null,
   "id": "a302238f",
   "metadata": {},
   "outputs": [],
   "source": [
    "### Division...\n",
    "\n",
    "print(a / b)"
   ]
  },
  {
   "cell_type": "code",
   "execution_count": null,
   "id": "3d7ebff9",
   "metadata": {},
   "outputs": [],
   "source": [
    "### Modulas...\n",
    "\n",
    "print(a % b)"
   ]
  },
  {
   "cell_type": "code",
   "execution_count": null,
   "id": "24bd8239",
   "metadata": {},
   "outputs": [],
   "source": [
    "### Exponention...\n",
    "\n",
    "print(a ** b)"
   ]
  },
  {
   "cell_type": "code",
   "execution_count": null,
   "id": "924baab9",
   "metadata": {},
   "outputs": [],
   "source": [
    "### Floor Division...\n",
    "\n",
    "print(b // a)"
   ]
  },
  {
   "cell_type": "markdown",
   "id": "d3dbb5de",
   "metadata": {},
   "source": [
    "Assignment Operators..."
   ]
  },
  {
   "cell_type": "code",
   "execution_count": null,
   "id": "35fb15b4",
   "metadata": {},
   "outputs": [],
   "source": [
    "### equal to ...\n",
    "\n",
    "c = a+b\n",
    "print(c)"
   ]
  },
  {
   "cell_type": "code",
   "execution_count": null,
   "id": "e5f7d5b9",
   "metadata": {},
   "outputs": [],
   "source": [
    "###  increament ...\n",
    "\n",
    "c +=10\n",
    "print(c)"
   ]
  },
  {
   "cell_type": "code",
   "execution_count": null,
   "id": "4ada8a98",
   "metadata": {},
   "outputs": [],
   "source": [
    "###Decriment...\n",
    "\n",
    "c -=10\n",
    "print(c)"
   ]
  },
  {
   "cell_type": "code",
   "execution_count": null,
   "id": "fe6518f5",
   "metadata": {},
   "outputs": [],
   "source": [
    "### meultiplicatn...\n",
    "\n",
    "c *=10\n",
    "print(c)"
   ]
  },
  {
   "cell_type": "code",
   "execution_count": null,
   "id": "29de4ac1",
   "metadata": {},
   "outputs": [],
   "source": [
    "###Divisionet...\n",
    "\n",
    "c /=10\n",
    "print(c)"
   ]
  },
  {
   "cell_type": "code",
   "execution_count": null,
   "id": "d6153f8e",
   "metadata": {},
   "outputs": [],
   "source": [
    "###Decriment...\n",
    "\n",
    "c //=10\n",
    "print(c)"
   ]
  },
  {
   "cell_type": "code",
   "execution_count": null,
   "id": "9e5bf740",
   "metadata": {},
   "outputs": [],
   "source": [
    "### exponentional...\n",
    "\n",
    "c **=10\n",
    "print(c)"
   ]
  },
  {
   "cell_type": "code",
   "execution_count": null,
   "id": "0897be58",
   "metadata": {},
   "outputs": [],
   "source": [
    "###Decriment...\n",
    "c  = 10\n",
    "c &=10\n",
    "print(c)"
   ]
  },
  {
   "cell_type": "code",
   "execution_count": null,
   "id": "380942f0",
   "metadata": {},
   "outputs": [],
   "source": [
    "###Decriment...\n",
    "\n",
    "c |=10\n",
    "print(c)"
   ]
  },
  {
   "cell_type": "code",
   "execution_count": null,
   "id": "7242aaf5",
   "metadata": {},
   "outputs": [],
   "source": [
    "###Decriment...\n",
    "\n",
    "c ^=10\n",
    "print(c)"
   ]
  },
  {
   "cell_type": "code",
   "execution_count": null,
   "id": "09cd91cc",
   "metadata": {},
   "outputs": [],
   "source": [
    "###Decriment...\n",
    "\n",
    "c >>=10\n",
    "print(c)"
   ]
  },
  {
   "cell_type": "code",
   "execution_count": null,
   "id": "eb77ce9d",
   "metadata": {},
   "outputs": [],
   "source": [
    "###Decriment...\n",
    "\n",
    "c <<=100\n",
    "print(c)"
   ]
  },
  {
   "cell_type": "markdown",
   "id": "fd2d4f60",
   "metadata": {},
   "source": [
    "Python Comparision Operatos..."
   ]
  },
  {
   "cell_type": "code",
   "execution_count": null,
   "id": "52b04dc7",
   "metadata": {},
   "outputs": [],
   "source": [
    "### Equal...\n",
    "c = 20\n",
    "c ==20"
   ]
  },
  {
   "cell_type": "code",
   "execution_count": null,
   "id": "b70c8332",
   "metadata": {},
   "outputs": [],
   "source": [
    "### Nto Equal...\n",
    "\n",
    "c !=20"
   ]
  },
  {
   "cell_type": "code",
   "execution_count": null,
   "id": "76407656",
   "metadata": {},
   "outputs": [],
   "source": [
    "c > 20"
   ]
  },
  {
   "cell_type": "code",
   "execution_count": null,
   "id": "c4ce15de",
   "metadata": {},
   "outputs": [],
   "source": [
    "c <20"
   ]
  },
  {
   "cell_type": "code",
   "execution_count": null,
   "id": "059572ea",
   "metadata": {},
   "outputs": [],
   "source": [
    "c >=20"
   ]
  },
  {
   "cell_type": "code",
   "execution_count": null,
   "id": "9825e03b",
   "metadata": {},
   "outputs": [],
   "source": [
    "c <=30"
   ]
  },
  {
   "cell_type": "markdown",
   "id": "cff8af3b",
   "metadata": {},
   "source": [
    "Python logical operators..\n",
    "* AND\n",
    "* OR\n",
    "* NOT"
   ]
  },
  {
   "cell_type": "code",
   "execution_count": null,
   "id": "b138fa47",
   "metadata": {},
   "outputs": [],
   "source": [
    "a = 10\n",
    "b = 20\n",
    " \n",
    "a and b"
   ]
  },
  {
   "cell_type": "code",
   "execution_count": null,
   "id": "26fa9229",
   "metadata": {},
   "outputs": [],
   "source": [
    "a or b"
   ]
  },
  {
   "cell_type": "code",
   "execution_count": null,
   "id": "4304da29",
   "metadata": {},
   "outputs": [],
   "source": [
    "a"
   ]
  },
  {
   "cell_type": "code",
   "execution_count": null,
   "id": "4af25d50",
   "metadata": {},
   "outputs": [],
   "source": [
    "not 10 >20 # False ---> True here"
   ]
  },
  {
   "cell_type": "markdown",
   "id": "5eb9f84a",
   "metadata": {},
   "source": [
    "Python Identity Operators..\n",
    "* is\n",
    "* isnot"
   ]
  },
  {
   "cell_type": "code",
   "execution_count": null,
   "id": "4f70949f",
   "metadata": {},
   "outputs": [],
   "source": [
    "a"
   ]
  },
  {
   "cell_type": "code",
   "execution_count": null,
   "id": "39835f80",
   "metadata": {},
   "outputs": [],
   "source": [
    "a is b"
   ]
  },
  {
   "cell_type": "code",
   "execution_count": null,
   "id": "a27be92c",
   "metadata": {},
   "outputs": [],
   "source": [
    "b"
   ]
  },
  {
   "cell_type": "code",
   "execution_count": null,
   "id": "402f6c76",
   "metadata": {},
   "outputs": [],
   "source": [
    "a = 20\n",
    "b = 20"
   ]
  },
  {
   "cell_type": "code",
   "execution_count": null,
   "id": "c81364b7",
   "metadata": {},
   "outputs": [],
   "source": [
    "a is b"
   ]
  },
  {
   "cell_type": "code",
   "execution_count": null,
   "id": "cf509c6a",
   "metadata": {},
   "outputs": [],
   "source": [
    "b is a"
   ]
  },
  {
   "cell_type": "code",
   "execution_count": null,
   "id": "c1fe7546",
   "metadata": {},
   "outputs": [],
   "source": [
    "#is not"
   ]
  },
  {
   "cell_type": "code",
   "execution_count": null,
   "id": "d793cb60",
   "metadata": {},
   "outputs": [],
   "source": [
    "a is not b"
   ]
  },
  {
   "cell_type": "code",
   "execution_count": null,
   "id": "3ea5bc2e",
   "metadata": {},
   "outputs": [],
   "source": [
    "a = 20"
   ]
  },
  {
   "cell_type": "code",
   "execution_count": null,
   "id": "c3788846",
   "metadata": {},
   "outputs": [],
   "source": [
    "a is not b"
   ]
  },
  {
   "cell_type": "code",
   "execution_count": null,
   "id": "0f88aa7e",
   "metadata": {},
   "outputs": [],
   "source": [
    "b =30\n",
    "a = 4\n",
    "a is not b"
   ]
  },
  {
   "cell_type": "markdown",
   "id": "e00bdcc2",
   "metadata": {},
   "source": [
    "Membership Operators.."
   ]
  },
  {
   "cell_type": "code",
   "execution_count": null,
   "id": "cf96c6f6",
   "metadata": {},
   "outputs": [],
   "source": [
    "a in [2,3,4,5]"
   ]
  },
  {
   "cell_type": "code",
   "execution_count": null,
   "id": "82596a6e",
   "metadata": {},
   "outputs": [],
   "source": [
    "b in [2,3.5,65,8]"
   ]
  },
  {
   "cell_type": "code",
   "execution_count": null,
   "id": "7c3d3dca",
   "metadata": {},
   "outputs": [],
   "source": [
    "b not in [2,3.5,65,8]"
   ]
  },
  {
   "cell_type": "code",
   "execution_count": null,
   "id": "c458a01b",
   "metadata": {},
   "outputs": [],
   "source": [
    "\"balu\"  in 'Balu is balu not a puspa'"
   ]
  },
  {
   "cell_type": "markdown",
   "id": "05ef3c5e",
   "metadata": {},
   "source": [
    "Bitwise operators..."
   ]
  },
  {
   "cell_type": "code",
   "execution_count": null,
   "id": "3dcf4c18",
   "metadata": {},
   "outputs": [],
   "source": [
    "# &&&&&&&&&&&&&&&&&\n",
    "a  = 13\n",
    "b = 7\n",
    "\n",
    "a & b"
   ]
  },
  {
   "cell_type": "code",
   "execution_count": null,
   "id": "d46920c4",
   "metadata": {},
   "outputs": [],
   "source": [
    "# |||||||||||||||||||||||||||||\n",
    "\n",
    "a  | b"
   ]
  },
  {
   "cell_type": "code",
   "execution_count": null,
   "id": "480b759d",
   "metadata": {},
   "outputs": [],
   "source": [
    "a ^ b"
   ]
  },
  {
   "cell_type": "code",
   "execution_count": null,
   "id": "89baf048",
   "metadata": {},
   "outputs": [],
   "source": [
    "~a"
   ]
  },
  {
   "cell_type": "code",
   "execution_count": null,
   "id": "a7d03872",
   "metadata": {},
   "outputs": [],
   "source": [
    "a << 10"
   ]
  },
  {
   "cell_type": "code",
   "execution_count": null,
   "id": "c6497b74",
   "metadata": {},
   "outputs": [],
   "source": [
    "a >> 10"
   ]
  },
  {
   "cell_type": "markdown",
   "id": "d0836383",
   "metadata": {},
   "source": [
    "### Lists..."
   ]
  },
  {
   "cell_type": "code",
   "execution_count": null,
   "id": "5c40ead8",
   "metadata": {},
   "outputs": [],
   "source": [
    "l = ['Bala',34,5.5,['Krishna'],{34,4,},True]\n",
    "print(l)"
   ]
  },
  {
   "cell_type": "code",
   "execution_count": null,
   "id": "a3bee405",
   "metadata": {},
   "outputs": [],
   "source": [
    "list((\"balalsd\",34,34))"
   ]
  },
  {
   "cell_type": "code",
   "execution_count": null,
   "id": "9ad16821",
   "metadata": {},
   "outputs": [],
   "source": [
    "len(l)"
   ]
  },
  {
   "cell_type": "code",
   "execution_count": null,
   "id": "78f7188f",
   "metadata": {},
   "outputs": [],
   "source": [
    "l"
   ]
  },
  {
   "cell_type": "code",
   "execution_count": null,
   "id": "276fd916",
   "metadata": {},
   "outputs": [],
   "source": [
    "l = [random.randint(n,10) for n in range(1,11)] #created random numbers to use the lists\n",
    "l"
   ]
  },
  {
   "cell_type": "code",
   "execution_count": null,
   "id": "8f34c121",
   "metadata": {},
   "outputs": [],
   "source": [
    "#access list...\n",
    "l[-1]"
   ]
  },
  {
   "cell_type": "code",
   "execution_count": null,
   "id": "ad852104",
   "metadata": {},
   "outputs": [],
   "source": [
    "l[8:10]"
   ]
  },
  {
   "cell_type": "code",
   "execution_count": null,
   "id": "1acb3349",
   "metadata": {},
   "outputs": [],
   "source": [
    "len(l)"
   ]
  },
  {
   "cell_type": "code",
   "execution_count": null,
   "id": "a899ecbe",
   "metadata": {},
   "outputs": [],
   "source": [
    "l[:9]"
   ]
  },
  {
   "cell_type": "code",
   "execution_count": null,
   "id": "89833c13",
   "metadata": {},
   "outputs": [],
   "source": [
    "l[-9:]"
   ]
  },
  {
   "cell_type": "code",
   "execution_count": null,
   "id": "87de5f10",
   "metadata": {},
   "outputs": [],
   "source": [
    "l"
   ]
  },
  {
   "cell_type": "code",
   "execution_count": null,
   "id": "daee67dc",
   "metadata": {},
   "outputs": [],
   "source": [
    "l[4:]"
   ]
  },
  {
   "cell_type": "code",
   "execution_count": null,
   "id": "15e6bbd1",
   "metadata": {},
   "outputs": [],
   "source": [
    "l"
   ]
  },
  {
   "cell_type": "code",
   "execution_count": null,
   "id": "20dd2e58",
   "metadata": {},
   "outputs": [],
   "source": [
    "l[-6:-1]"
   ]
  },
  {
   "cell_type": "code",
   "execution_count": null,
   "id": "5db70fc5",
   "metadata": {},
   "outputs": [],
   "source": [
    "l[-4:-2]"
   ]
  },
  {
   "cell_type": "code",
   "execution_count": null,
   "id": "0fa040ad",
   "metadata": {},
   "outputs": [],
   "source": [
    "#check item exists..using membership operatorss.\n",
    "\n",
    "7 in l"
   ]
  },
  {
   "cell_type": "code",
   "execution_count": null,
   "id": "5d4a76df",
   "metadata": {},
   "outputs": [],
   "source": [
    "##Change lsit items...\n",
    "print(l)\n",
    "l[0:4] = [0,0,0,0]\n",
    "print(l)"
   ]
  },
  {
   "cell_type": "code",
   "execution_count": null,
   "id": "d23f702c",
   "metadata": {},
   "outputs": [],
   "source": [
    "a = \"5+56+87-7*8/54\"\n",
    "\n",
    "b= []\n",
    "#sending each character to one indexing list...\n",
    "\n",
    "b[0:len(a)+1] = a\n",
    "l\n",
    "b"
   ]
  },
  {
   "cell_type": "code",
   "execution_count": null,
   "id": "0b42796c",
   "metadata": {},
   "outputs": [],
   "source": [
    "l"
   ]
  },
  {
   "cell_type": "code",
   "execution_count": null,
   "id": "55f20c04",
   "metadata": {},
   "outputs": [],
   "source": [
    "l"
   ]
  },
  {
   "cell_type": "code",
   "execution_count": null,
   "id": "31b8d7ac",
   "metadata": {},
   "outputs": [],
   "source": [
    "l[0:4 ] = [1,2,3,4,'balu']"
   ]
  },
  {
   "cell_type": "code",
   "execution_count": null,
   "id": "1b1b3296",
   "metadata": {},
   "outputs": [],
   "source": [
    "l"
   ]
  },
  {
   "cell_type": "code",
   "execution_count": null,
   "id": "98e1282d",
   "metadata": {},
   "outputs": [],
   "source": [
    "l[5:6] = ['bala ','Krishna',[1,2,3]]"
   ]
  },
  {
   "cell_type": "code",
   "execution_count": null,
   "id": "240899d9",
   "metadata": {},
   "outputs": [],
   "source": [
    "l"
   ]
  },
  {
   "cell_type": "code",
   "execution_count": null,
   "id": "aa5b85d6",
   "metadata": {},
   "outputs": [],
   "source": [
    "l.pop(-2)"
   ]
  },
  {
   "cell_type": "code",
   "execution_count": null,
   "id": "98fddcb0",
   "metadata": {},
   "outputs": [],
   "source": [
    "l"
   ]
  },
  {
   "cell_type": "code",
   "execution_count": null,
   "id": "5fdcf074",
   "metadata": {},
   "outputs": [],
   "source": [
    "[n for n in l if not isinstance(n,list)] #excluded the list uding the isinstance function..."
   ]
  },
  {
   "cell_type": "code",
   "execution_count": null,
   "id": "995e7d4b",
   "metadata": {},
   "outputs": [],
   "source": [
    "l=[1, 2, 3, 4, 'balu', 'bala ', 'Krishna', 6, 7, 9, 10]\n",
    "l[4:5] = ['Bala','Krishna']"
   ]
  },
  {
   "cell_type": "code",
   "execution_count": null,
   "id": "0d32983e",
   "metadata": {},
   "outputs": [],
   "source": [
    "l"
   ]
  },
  {
   "cell_type": "code",
   "execution_count": null,
   "id": "7f48e2f2",
   "metadata": {},
   "outputs": [],
   "source": [
    "l[4:-5] = ['****']"
   ]
  },
  {
   "cell_type": "code",
   "execution_count": null,
   "id": "cdd5f4e7",
   "metadata": {},
   "outputs": [],
   "source": [
    "l"
   ]
  },
  {
   "cell_type": "code",
   "execution_count": null,
   "id": "653077fa",
   "metadata": {},
   "outputs": [],
   "source": [
    "l.pop(-5)"
   ]
  },
  {
   "cell_type": "code",
   "execution_count": null,
   "id": "beef8d98",
   "metadata": {},
   "outputs": [],
   "source": []
  },
  {
   "cell_type": "code",
   "execution_count": null,
   "id": "d62c74e8",
   "metadata": {},
   "outputs": [],
   "source": [
    "l"
   ]
  },
  {
   "cell_type": "code",
   "execution_count": null,
   "id": "04385de0",
   "metadata": {},
   "outputs": [],
   "source": [
    "l[4:6] = [5]"
   ]
  },
  {
   "cell_type": "code",
   "execution_count": null,
   "id": "6d378391",
   "metadata": {},
   "outputs": [],
   "source": [
    "l"
   ]
  },
  {
   "cell_type": "code",
   "execution_count": null,
   "id": "b3315574",
   "metadata": {},
   "outputs": [],
   "source": [
    "l.insert(5,6)"
   ]
  },
  {
   "cell_type": "code",
   "execution_count": null,
   "id": "7a0928b4",
   "metadata": {},
   "outputs": [],
   "source": [
    "l"
   ]
  },
  {
   "cell_type": "code",
   "execution_count": null,
   "id": "08208e57",
   "metadata": {},
   "outputs": [],
   "source": [
    "l.insert(7,[8,8])"
   ]
  },
  {
   "cell_type": "code",
   "execution_count": null,
   "id": "406ddbcd",
   "metadata": {},
   "outputs": [],
   "source": [
    "l"
   ]
  },
  {
   "cell_type": "code",
   "execution_count": null,
   "id": "cb584478",
   "metadata": {},
   "outputs": [],
   "source": [
    "l[-3:-2] = [8,10]"
   ]
  },
  {
   "cell_type": "code",
   "execution_count": null,
   "id": "f656083e",
   "metadata": {},
   "outputs": [],
   "source": [
    "l"
   ]
  },
  {
   "cell_type": "code",
   "execution_count": null,
   "id": "4a7fb595",
   "metadata": {},
   "outputs": [],
   "source": [
    "l.pop(-2)"
   ]
  },
  {
   "cell_type": "code",
   "execution_count": null,
   "id": "fa16cbb8",
   "metadata": {},
   "outputs": [],
   "source": [
    "l"
   ]
  },
  {
   "cell_type": "code",
   "execution_count": null,
   "id": "f97bbf7b",
   "metadata": {},
   "outputs": [],
   "source": [
    "l[-2] = 9"
   ]
  },
  {
   "cell_type": "code",
   "execution_count": null,
   "id": "ffcb4d0c",
   "metadata": {},
   "outputs": [],
   "source": [
    "l"
   ]
  },
  {
   "cell_type": "code",
   "execution_count": null,
   "id": "45fb8aef",
   "metadata": {},
   "outputs": [],
   "source": [
    "#append the lists...\n",
    "\n",
    "l.append('11')"
   ]
  },
  {
   "cell_type": "code",
   "execution_count": null,
   "id": "f7c22c80",
   "metadata": {},
   "outputs": [],
   "source": [
    "l"
   ]
  },
  {
   "cell_type": "code",
   "execution_count": null,
   "id": "7d6aee92",
   "metadata": {},
   "outputs": [],
   "source": [
    "l[-1] = int('11')"
   ]
  },
  {
   "cell_type": "code",
   "execution_count": null,
   "id": "2f0c2520",
   "metadata": {},
   "outputs": [],
   "source": [
    "l"
   ]
  },
  {
   "cell_type": "code",
   "execution_count": null,
   "id": "c4eb8754",
   "metadata": {},
   "outputs": [],
   "source": [
    "l.append([1,2,3,4])"
   ]
  },
  {
   "cell_type": "code",
   "execution_count": null,
   "id": "b0815066",
   "metadata": {},
   "outputs": [],
   "source": [
    "l"
   ]
  },
  {
   "cell_type": "code",
   "execution_count": null,
   "id": "b20cd846",
   "metadata": {},
   "outputs": [],
   "source": [
    "l.pop(-1)"
   ]
  },
  {
   "cell_type": "code",
   "execution_count": null,
   "id": "261bfafc",
   "metadata": {},
   "outputs": [],
   "source": [
    "l"
   ]
  },
  {
   "cell_type": "code",
   "execution_count": null,
   "id": "44463d96",
   "metadata": {},
   "outputs": [],
   "source": [
    "l.extend([12,13,14])"
   ]
  },
  {
   "cell_type": "code",
   "execution_count": null,
   "id": "321e5fc1",
   "metadata": {},
   "outputs": [],
   "source": [
    "l"
   ]
  },
  {
   "cell_type": "code",
   "execution_count": null,
   "id": "052ee134",
   "metadata": {},
   "outputs": [],
   "source": [
    "l"
   ]
  },
  {
   "cell_type": "code",
   "execution_count": null,
   "id": "a630fb06",
   "metadata": {},
   "outputs": [],
   "source": [
    "l.pop(-1)"
   ]
  },
  {
   "cell_type": "code",
   "execution_count": null,
   "id": "0a3f814a",
   "metadata": {},
   "outputs": [],
   "source": [
    "del(l[-1])"
   ]
  },
  {
   "cell_type": "code",
   "execution_count": null,
   "id": "3513834b",
   "metadata": {},
   "outputs": [],
   "source": [
    "l"
   ]
  },
  {
   "cell_type": "code",
   "execution_count": null,
   "id": "e2fe7521",
   "metadata": {},
   "outputs": [],
   "source": [
    "a"
   ]
  },
  {
   "cell_type": "code",
   "execution_count": null,
   "id": "b7bc1a48",
   "metadata": {},
   "outputs": [],
   "source": [
    "#clear is used to clear the list and make empty ...\n",
    "b.clear()"
   ]
  },
  {
   "cell_type": "code",
   "execution_count": null,
   "id": "588d3d01",
   "metadata": {},
   "outputs": [],
   "source": [
    "b"
   ]
  },
  {
   "cell_type": "code",
   "execution_count": null,
   "id": "4d042fc6",
   "metadata": {},
   "outputs": [],
   "source": [
    "## loop lists...\n",
    "\n",
    "for i in l:\n",
    "    print(i,end='\\t\\t')\n",
    "print('\\n')\n",
    "for i in range(len(l)):\n",
    "    print(i,end='\\t\\t')"
   ]
  },
  {
   "cell_type": "code",
   "execution_count": null,
   "id": "03d01e25",
   "metadata": {},
   "outputs": [],
   "source": [
    "i = 0\n",
    "\n",
    "while i < len(l):\n",
    "    print(i,end='\\t\\t')\n",
    "    i +=1"
   ]
  },
  {
   "cell_type": "code",
   "execution_count": null,
   "id": "e8a10c5c",
   "metadata": {},
   "outputs": [],
   "source": [
    "thislist = [\"apple\", \"banana\", \"cherry\"]\n",
    "[print(x) for x in thislist]"
   ]
  },
  {
   "cell_type": "code",
   "execution_count": null,
   "id": "bb23e8cd",
   "metadata": {},
   "outputs": [],
   "source": [
    "thislist = [\"apple\", \"banana\", \"cherry\"]\n",
    "[print(x) for x in thislist]"
   ]
  },
  {
   "cell_type": "code",
   "execution_count": null,
   "id": "1504af4e",
   "metadata": {},
   "outputs": [],
   "source": [
    "l"
   ]
  },
  {
   "cell_type": "code",
   "execution_count": null,
   "id": "329ad85f",
   "metadata": {},
   "outputs": [],
   "source": [
    "a = []\n",
    "\n",
    "for i in l:\n",
    "    if '1' in str(i):\n",
    "        a.append(i)"
   ]
  },
  {
   "cell_type": "code",
   "execution_count": null,
   "id": "b05ae134",
   "metadata": {},
   "outputs": [],
   "source": [
    "a"
   ]
  },
  {
   "cell_type": "code",
   "execution_count": null,
   "id": "5de8b13a",
   "metadata": {},
   "outputs": [],
   "source": [
    "[n for n in l if '1' in str(n)]"
   ]
  },
  {
   "cell_type": "code",
   "execution_count": null,
   "id": "fed4cc8d",
   "metadata": {},
   "outputs": [],
   "source": [
    "# getting odd numbers to list coprehentation...\n",
    "\n",
    "odds = [n for n in range(1,101) if n%2==1]\n",
    "print(odds)"
   ]
  },
  {
   "cell_type": "code",
   "execution_count": null,
   "id": "bbc1276f",
   "metadata": {},
   "outputs": [],
   "source": [
    "fruits = [\"apple\", \"banana\", \"cherry\", \"kiwi\", \"mango\"]\n",
    "\n",
    "[n.upper() for n in fruits ]"
   ]
  },
  {
   "cell_type": "code",
   "execution_count": null,
   "id": "94f3b4a9",
   "metadata": {},
   "outputs": [],
   "source": [
    "#return orange instead of banana...\n",
    "\n",
    "[n.upper() if n!='banana' else 'Orange' for n in fruits]"
   ]
  },
  {
   "cell_type": "code",
   "execution_count": null,
   "id": "a99478a7",
   "metadata": {},
   "outputs": [],
   "source": [
    "fruits"
   ]
  },
  {
   "cell_type": "code",
   "execution_count": null,
   "id": "87b7d310",
   "metadata": {},
   "outputs": [],
   "source": [
    "fruits.sort()"
   ]
  },
  {
   "cell_type": "code",
   "execution_count": null,
   "id": "d6c62098",
   "metadata": {},
   "outputs": [],
   "source": [
    "fruits"
   ]
  },
  {
   "cell_type": "code",
   "execution_count": null,
   "id": "8f9e9b67",
   "metadata": {},
   "outputs": [],
   "source": [
    "fruits.sort(reverse=True)"
   ]
  },
  {
   "cell_type": "code",
   "execution_count": null,
   "id": "ee127483",
   "metadata": {},
   "outputs": [],
   "source": [
    "fruits"
   ]
  },
  {
   "cell_type": "code",
   "execution_count": null,
   "id": "24c9e005",
   "metadata": {},
   "outputs": [],
   "source": [
    "def my_fun(n):\n",
    "    return abs(n - 100)\n",
    "my_fun(10)"
   ]
  },
  {
   "cell_type": "code",
   "execution_count": null,
   "id": "cde2d611",
   "metadata": {},
   "outputs": [],
   "source": [
    "#possitive values...\n",
    "l = [random.randint(n,50) for n in range(11)]\n",
    "l"
   ]
  },
  {
   "cell_type": "code",
   "execution_count": null,
   "id": "2511dc0f",
   "metadata": {},
   "outputs": [],
   "source": [
    "l.sort(key=my_fun) #closet number to the 20"
   ]
  },
  {
   "cell_type": "code",
   "execution_count": null,
   "id": "80909bdf",
   "metadata": {},
   "outputs": [],
   "source": [
    "l"
   ]
  },
  {
   "cell_type": "code",
   "execution_count": null,
   "id": "c8907c4d",
   "metadata": {},
   "outputs": [],
   "source": [
    "fruits.sort(key=str.lower)\n",
    "fruits"
   ]
  },
  {
   "cell_type": "code",
   "execution_count": null,
   "id": "f03337bc",
   "metadata": {},
   "outputs": [],
   "source": [
    "l"
   ]
  },
  {
   "cell_type": "code",
   "execution_count": null,
   "id": "c0adbe2c",
   "metadata": {},
   "outputs": [],
   "source": [
    "l.reverse()"
   ]
  },
  {
   "cell_type": "code",
   "execution_count": null,
   "id": "5cd4b5a3",
   "metadata": {},
   "outputs": [],
   "source": [
    "l"
   ]
  },
  {
   "cell_type": "markdown",
   "id": "04749cb7",
   "metadata": {},
   "source": [
    "Copy lists.."
   ]
  },
  {
   "cell_type": "code",
   "execution_count": null,
   "id": "73aa4d07",
   "metadata": {},
   "outputs": [],
   "source": [
    "veg = fruits.copy()\n",
    "veg"
   ]
  },
  {
   "cell_type": "code",
   "execution_count": null,
   "id": "3ae96a47",
   "metadata": {},
   "outputs": [],
   "source": [
    "f_v = fruits+veg\n",
    "print(f_v)"
   ]
  },
  {
   "cell_type": "code",
   "execution_count": null,
   "id": "11f8d8a8",
   "metadata": {},
   "outputs": [],
   "source": [
    "fruits.pop(5)"
   ]
  },
  {
   "cell_type": "code",
   "execution_count": null,
   "id": "2ca775c8",
   "metadata": {},
   "outputs": [],
   "source": [
    "fruits = list(set(list(fruits)))"
   ]
  },
  {
   "cell_type": "code",
   "execution_count": null,
   "id": "2a796f6f",
   "metadata": {},
   "outputs": [],
   "source": [
    "fruits"
   ]
  },
  {
   "cell_type": "code",
   "execution_count": null,
   "id": "82a3c2d6",
   "metadata": {},
   "outputs": [],
   "source": [
    "f = fruits.extend(veg)"
   ]
  },
  {
   "cell_type": "code",
   "execution_count": null,
   "id": "3eb47c75",
   "metadata": {},
   "outputs": [],
   "source": [
    "f"
   ]
  },
  {
   "cell_type": "code",
   "execution_count": null,
   "id": "bc092b61",
   "metadata": {},
   "outputs": [],
   "source": [
    "fruits"
   ]
  },
  {
   "cell_type": "code",
   "execution_count": null,
   "id": "d16486dc",
   "metadata": {},
   "outputs": [],
   "source": [
    "veg"
   ]
  },
  {
   "cell_type": "code",
   "execution_count": null,
   "id": "7555914b",
   "metadata": {},
   "outputs": [],
   "source": [
    "for i in veg:\n",
    "    fruits.append(i)"
   ]
  },
  {
   "cell_type": "code",
   "execution_count": null,
   "id": "0cc785a2",
   "metadata": {},
   "outputs": [],
   "source": [
    "fruits"
   ]
  },
  {
   "cell_type": "code",
   "execution_count": null,
   "id": "e0860002",
   "metadata": {},
   "outputs": [],
   "source": [
    "fruits.clear()"
   ]
  },
  {
   "cell_type": "code",
   "execution_count": null,
   "id": "1aa8b530",
   "metadata": {},
   "outputs": [],
   "source": [
    "fruits"
   ]
  },
  {
   "cell_type": "code",
   "execution_count": null,
   "id": "57b8035d",
   "metadata": {},
   "outputs": [],
   "source": [
    "fruits = veg.copy()"
   ]
  },
  {
   "cell_type": "code",
   "execution_count": null,
   "id": "ba3d54eb",
   "metadata": {
    "scrolled": false
   },
   "outputs": [],
   "source": [
    "fruits =list(set(fruits))"
   ]
  },
  {
   "cell_type": "code",
   "execution_count": null,
   "id": "bd7595c8",
   "metadata": {},
   "outputs": [],
   "source": [
    "fruits"
   ]
  },
  {
   "cell_type": "code",
   "execution_count": null,
   "id": "60e7ac37",
   "metadata": {},
   "outputs": [],
   "source": [
    "fruits.count('apple')"
   ]
  },
  {
   "cell_type": "code",
   "execution_count": null,
   "id": "a9f5b428",
   "metadata": {},
   "outputs": [],
   "source": [
    "fruits.index('banana')"
   ]
  },
  {
   "cell_type": "code",
   "execution_count": null,
   "id": "a5841264",
   "metadata": {},
   "outputs": [],
   "source": [
    "fruits.remove('banana')"
   ]
  },
  {
   "cell_type": "code",
   "execution_count": null,
   "id": "8bda4c34",
   "metadata": {},
   "outputs": [],
   "source": [
    "fruits"
   ]
  },
  {
   "cell_type": "code",
   "execution_count": null,
   "id": "1040af38",
   "metadata": {},
   "outputs": [],
   "source": [
    "fruits.reverse()"
   ]
  },
  {
   "cell_type": "code",
   "execution_count": null,
   "id": "4258ab2f",
   "metadata": {},
   "outputs": [],
   "source": [
    "fruits"
   ]
  },
  {
   "cell_type": "markdown",
   "id": "f7db1585",
   "metadata": {},
   "source": [
    "### Tuples\n",
    "\n"
   ]
  },
  {
   "cell_type": "code",
   "execution_count": null,
   "id": "b8c24517",
   "metadata": {},
   "outputs": [],
   "source": [
    "a = (23,34,35,['balu','Krishna'],True,False,1,2,3.3,'bala','baddi')"
   ]
  },
  {
   "cell_type": "code",
   "execution_count": null,
   "id": "ad961c86",
   "metadata": {},
   "outputs": [],
   "source": [
    "a"
   ]
  },
  {
   "cell_type": "code",
   "execution_count": null,
   "id": "40436d60",
   "metadata": {},
   "outputs": [],
   "source": [
    "type(a)"
   ]
  },
  {
   "cell_type": "code",
   "execution_count": null,
   "id": "398de3aa",
   "metadata": {},
   "outputs": [],
   "source": [
    "l = [1,2,3,5,6,8,100,45,23]\n",
    "l.sort()"
   ]
  },
  {
   "cell_type": "code",
   "execution_count": null,
   "id": "f7449b33",
   "metadata": {},
   "outputs": [],
   "source": [
    "l"
   ]
  },
  {
   "cell_type": "markdown",
   "id": "c5e5bccc",
   "metadata": {},
   "source": [
    "### Tuples...\n",
    "When we say that tuples are ordered, it means that the items have a defined order, and that order will not change."
   ]
  },
  {
   "cell_type": "code",
   "execution_count": null,
   "id": "93169160",
   "metadata": {},
   "outputs": [],
   "source": [
    "a = tuple([random.randint(1,n) for n in range(2,20)]) #generate some n numbers... in tuples....\n",
    "a"
   ]
  },
  {
   "cell_type": "code",
   "execution_count": null,
   "id": "48831aad",
   "metadata": {},
   "outputs": [],
   "source": [
    "a.count('1')"
   ]
  },
  {
   "cell_type": "code",
   "execution_count": null,
   "id": "2d467acf",
   "metadata": {},
   "outputs": [],
   "source": [
    "a.count(1)"
   ]
  },
  {
   "cell_type": "code",
   "execution_count": null,
   "id": "97d04e5d",
   "metadata": {},
   "outputs": [],
   "source": [
    "a"
   ]
  },
  {
   "cell_type": "code",
   "execution_count": null,
   "id": "bb011f03",
   "metadata": {},
   "outputs": [],
   "source": [
    "len(a)"
   ]
  },
  {
   "cell_type": "code",
   "execution_count": null,
   "id": "01c869df",
   "metadata": {},
   "outputs": [],
   "source": [
    "type(a)"
   ]
  },
  {
   "cell_type": "code",
   "execution_count": null,
   "id": "8bc758ad",
   "metadata": {},
   "outputs": [],
   "source": [
    "b = (('balu','RAju'))"
   ]
  },
  {
   "cell_type": "code",
   "execution_count": null,
   "id": "44f98e1f",
   "metadata": {},
   "outputs": [],
   "source": [
    "b"
   ]
  },
  {
   "cell_type": "code",
   "execution_count": null,
   "id": "f6ed29ff",
   "metadata": {},
   "outputs": [],
   "source": [
    "type(b)"
   ]
  },
  {
   "cell_type": "code",
   "execution_count": null,
   "id": "c18ba727",
   "metadata": {},
   "outputs": [],
   "source": [
    "type(a)"
   ]
  },
  {
   "cell_type": "code",
   "execution_count": null,
   "id": "f73d0bbe",
   "metadata": {},
   "outputs": [],
   "source": [
    "a"
   ]
  },
  {
   "cell_type": "code",
   "execution_count": null,
   "id": "135db477",
   "metadata": {},
   "outputs": [],
   "source": [
    "a[1]"
   ]
  },
  {
   "cell_type": "code",
   "execution_count": null,
   "id": "b2e842c6",
   "metadata": {},
   "outputs": [],
   "source": [
    "a[::-1]"
   ]
  },
  {
   "cell_type": "code",
   "execution_count": null,
   "id": "65bc9b6b",
   "metadata": {},
   "outputs": [],
   "source": [
    "a[8:13]"
   ]
  },
  {
   "cell_type": "code",
   "execution_count": null,
   "id": "c5300762",
   "metadata": {},
   "outputs": [],
   "source": [
    "a[:10]"
   ]
  },
  {
   "cell_type": "code",
   "execution_count": null,
   "id": "d669aa98",
   "metadata": {},
   "outputs": [],
   "source": [
    "a[-4:-1]"
   ]
  },
  {
   "cell_type": "code",
   "execution_count": null,
   "id": "7ca9aab3",
   "metadata": {},
   "outputs": [],
   "source": [
    "a"
   ]
  },
  {
   "cell_type": "code",
   "execution_count": null,
   "id": "0fb66f60",
   "metadata": {},
   "outputs": [],
   "source": [
    "a[5::-1]"
   ]
  },
  {
   "cell_type": "code",
   "execution_count": null,
   "id": "04137766",
   "metadata": {},
   "outputs": [],
   "source": [
    "a.index(1)"
   ]
  },
  {
   "cell_type": "code",
   "execution_count": null,
   "id": "ee5c5978",
   "metadata": {},
   "outputs": [],
   "source": [
    "x = list(a)"
   ]
  },
  {
   "cell_type": "code",
   "execution_count": null,
   "id": "bede79ad",
   "metadata": {},
   "outputs": [],
   "source": [
    "x"
   ]
  },
  {
   "cell_type": "code",
   "execution_count": null,
   "id": "b6827c9f",
   "metadata": {},
   "outputs": [],
   "source": [
    "x [8] = 'Kiwi'"
   ]
  },
  {
   "cell_type": "code",
   "execution_count": null,
   "id": "8b6ad84a",
   "metadata": {},
   "outputs": [],
   "source": [
    "a = tuple(x)"
   ]
  },
  {
   "cell_type": "code",
   "execution_count": null,
   "id": "a18e07dc",
   "metadata": {},
   "outputs": [],
   "source": [
    "a = [1, 2, 3, 2, 4, 4, 7, 2, 4, 5, 8, 9, 3, 15, 5, 15, 8, 5]"
   ]
  },
  {
   "cell_type": "code",
   "execution_count": null,
   "id": "6ad66752",
   "metadata": {},
   "outputs": [],
   "source": [
    "a"
   ]
  },
  {
   "cell_type": "code",
   "execution_count": null,
   "id": "c87f1088",
   "metadata": {},
   "outputs": [],
   "source": [
    "del a"
   ]
  },
  {
   "cell_type": "code",
   "execution_count": null,
   "id": "a91888cf",
   "metadata": {},
   "outputs": [],
   "source": [
    "### Unpacking Tuple...\n",
    "a = (1,2,3)\n",
    "one,two,three = a\n",
    "print(one)\n",
    "print(two)\n",
    "print(three)"
   ]
  },
  {
   "cell_type": "code",
   "execution_count": null,
   "id": "cce202ca",
   "metadata": {},
   "outputs": [],
   "source": [
    "#using astrics...that will create a list value...\n",
    "\n",
    "a = (1,2,3)\n",
    "one,two,*three = a\n",
    "print(one)\n",
    "print(two)\n",
    "print(three)"
   ]
  },
  {
   "cell_type": "code",
   "execution_count": null,
   "id": "eaf907a4",
   "metadata": {},
   "outputs": [],
   "source": [
    "for i in a:\n",
    "    print(i)"
   ]
  },
  {
   "cell_type": "code",
   "execution_count": null,
   "id": "c56504b0",
   "metadata": {},
   "outputs": [],
   "source": [
    "b = (6,4,34,'Balu')\n",
    "c = a+b"
   ]
  },
  {
   "cell_type": "code",
   "execution_count": null,
   "id": "a9c18fc4",
   "metadata": {},
   "outputs": [],
   "source": [
    "c"
   ]
  },
  {
   "cell_type": "code",
   "execution_count": null,
   "id": "f9e160da",
   "metadata": {},
   "outputs": [],
   "source": [
    "a"
   ]
  },
  {
   "cell_type": "code",
   "execution_count": null,
   "id": "22783670",
   "metadata": {},
   "outputs": [],
   "source": [
    "c = c*2\n",
    "c"
   ]
  },
  {
   "cell_type": "code",
   "execution_count": null,
   "id": "6e1d758b",
   "metadata": {},
   "outputs": [],
   "source": [
    "#tuple count and index....\n",
    "c.count('a')"
   ]
  },
  {
   "cell_type": "code",
   "execution_count": null,
   "id": "ad8127fa",
   "metadata": {},
   "outputs": [],
   "source": [
    "c.index('Balu')"
   ]
  },
  {
   "cell_type": "markdown",
   "id": "c2400135",
   "metadata": {},
   "source": [
    "### sets..."
   ]
  },
  {
   "cell_type": "code",
   "execution_count": null,
   "id": "924470a2",
   "metadata": {},
   "outputs": [],
   "source": [
    "s  = set([random.randint(1,n) for n in range(2,20)])\n",
    "#printing the the set values...\n",
    "s"
   ]
  },
  {
   "cell_type": "code",
   "execution_count": null,
   "id": "f14efc7e",
   "metadata": {},
   "outputs": [],
   "source": [
    "len(s)"
   ]
  },
  {
   "cell_type": "code",
   "execution_count": null,
   "id": "74f64ee9",
   "metadata": {},
   "outputs": [],
   "source": [
    "s"
   ]
  },
  {
   "cell_type": "code",
   "execution_count": null,
   "id": "c117db99",
   "metadata": {},
   "outputs": [],
   "source": [
    "s = frozenset(s)"
   ]
  },
  {
   "cell_type": "code",
   "execution_count": null,
   "id": "884a4bce",
   "metadata": {},
   "outputs": [],
   "source": [
    "s = {'Balu',1,2,3,'Krishna'}\n",
    "s"
   ]
  },
  {
   "cell_type": "code",
   "execution_count": null,
   "id": "6075edf8",
   "metadata": {},
   "outputs": [],
   "source": [
    "type(s)"
   ]
  },
  {
   "cell_type": "code",
   "execution_count": null,
   "id": "3a2191ac",
   "metadata": {},
   "outputs": [],
   "source": [
    "for x in s:\n",
    "    print(x)"
   ]
  },
  {
   "cell_type": "code",
   "execution_count": null,
   "id": "9d14036c",
   "metadata": {},
   "outputs": [],
   "source": [
    "print('Balu' in s)"
   ]
  },
  {
   "cell_type": "code",
   "execution_count": null,
   "id": "d67d74af",
   "metadata": {},
   "outputs": [],
   "source": [
    "## add values to the set...\n",
    "s.add('Baddi')\n",
    "s"
   ]
  },
  {
   "cell_type": "code",
   "execution_count": null,
   "id": "cd2448cb",
   "metadata": {},
   "outputs": [],
   "source": [
    "a = {'Mca','visakhapathnam'}\n",
    "s.update(a) #method"
   ]
  },
  {
   "cell_type": "code",
   "execution_count": null,
   "id": "b8e89618",
   "metadata": {},
   "outputs": [],
   "source": [
    "s"
   ]
  },
  {
   "cell_type": "code",
   "execution_count": null,
   "id": "6f2bb72b",
   "metadata": {},
   "outputs": [],
   "source": [
    "s.update([n for n in range(12,15)])"
   ]
  },
  {
   "cell_type": "code",
   "execution_count": null,
   "id": "a6a00487",
   "metadata": {},
   "outputs": [],
   "source": [
    "s"
   ]
  },
  {
   "cell_type": "code",
   "execution_count": null,
   "id": "d0f182cf",
   "metadata": {},
   "outputs": [],
   "source": [
    "s.remove('Balu')"
   ]
  },
  {
   "cell_type": "code",
   "execution_count": null,
   "id": "aca6e0d7",
   "metadata": {},
   "outputs": [],
   "source": [
    "s"
   ]
  },
  {
   "cell_type": "code",
   "execution_count": null,
   "id": "57bc0ee7",
   "metadata": {},
   "outputs": [],
   "source": [
    "s.discard('Balu')"
   ]
  },
  {
   "cell_type": "code",
   "execution_count": null,
   "id": "0be201e0",
   "metadata": {},
   "outputs": [],
   "source": [
    "s.discard('mca')"
   ]
  },
  {
   "cell_type": "code",
   "execution_count": null,
   "id": "c5c621f9",
   "metadata": {},
   "outputs": [],
   "source": [
    "s"
   ]
  },
  {
   "cell_type": "code",
   "execution_count": null,
   "id": "4ef8af38",
   "metadata": {},
   "outputs": [],
   "source": [
    "#pop\n",
    "s= {1,12, 13, 14, 2, 3, 'Baddi', 'Krishna', 'Mca', 'visakhapathnam'}\n",
    "s.pop()"
   ]
  },
  {
   "cell_type": "code",
   "execution_count": null,
   "id": "270fb31f",
   "metadata": {},
   "outputs": [],
   "source": [
    "s"
   ]
  },
  {
   "cell_type": "code",
   "execution_count": null,
   "id": "f5edc1f6",
   "metadata": {},
   "outputs": [],
   "source": [
    "b"
   ]
  },
  {
   "cell_type": "code",
   "execution_count": null,
   "id": "08e52d71",
   "metadata": {},
   "outputs": [],
   "source": [
    "b = set(b)\n",
    "b"
   ]
  },
  {
   "cell_type": "code",
   "execution_count": null,
   "id": "5487e3df",
   "metadata": {},
   "outputs": [],
   "source": [
    "del b"
   ]
  },
  {
   "cell_type": "code",
   "execution_count": null,
   "id": "282aa796",
   "metadata": {},
   "outputs": [],
   "source": [
    "a = {1,2,3,4,5}\n",
    "b = {3,4,5,6,7}"
   ]
  },
  {
   "cell_type": "code",
   "execution_count": null,
   "id": "bff94f55",
   "metadata": {},
   "outputs": [],
   "source": [
    "c = a.union(b)\n",
    "c"
   ]
  },
  {
   "cell_type": "code",
   "execution_count": null,
   "id": "f15d4bcb",
   "metadata": {},
   "outputs": [],
   "source": [
    "a.update(b)\n",
    "a"
   ]
  },
  {
   "cell_type": "code",
   "execution_count": null,
   "id": "440c3011",
   "metadata": {},
   "outputs": [],
   "source": [
    "a.intersection(b)"
   ]
  },
  {
   "cell_type": "code",
   "execution_count": null,
   "id": "81cf3e7c",
   "metadata": {},
   "outputs": [],
   "source": [
    "a,b,a.intersection(b)"
   ]
  },
  {
   "cell_type": "code",
   "execution_count": null,
   "id": "7aded9d5",
   "metadata": {},
   "outputs": [],
   "source": [
    "a,b,a.symmetric_difference(b)"
   ]
  },
  {
   "cell_type": "code",
   "execution_count": null,
   "id": "139c19ce",
   "metadata": {},
   "outputs": [],
   "source": [
    "b.update({'balu'})\n",
    "a,b,a.symmetric_difference(b)"
   ]
  },
  {
   "cell_type": "code",
   "execution_count": null,
   "id": "d9487c16",
   "metadata": {},
   "outputs": [],
   "source": [
    "a,b,a.symmetric_difference_update(b)"
   ]
  },
  {
   "cell_type": "code",
   "execution_count": null,
   "id": "9c645b07",
   "metadata": {},
   "outputs": [],
   "source": [
    "a.symmetric_difference_update(b)\n",
    "a"
   ]
  },
  {
   "cell_type": "code",
   "execution_count": null,
   "id": "fdb0e642",
   "metadata": {},
   "outputs": [],
   "source": [
    "a,b,c"
   ]
  },
  {
   "cell_type": "code",
   "execution_count": null,
   "id": "de9cac40",
   "metadata": {},
   "outputs": [],
   "source": [
    "c = {5,6,8,9}\n",
    "a,b,c"
   ]
  },
  {
   "cell_type": "code",
   "execution_count": null,
   "id": "4d703c88",
   "metadata": {},
   "outputs": [],
   "source": [
    "d = c\n",
    "d"
   ]
  },
  {
   "cell_type": "code",
   "execution_count": null,
   "id": "39bcff89",
   "metadata": {},
   "outputs": [],
   "source": [
    "d.clear()"
   ]
  },
  {
   "cell_type": "code",
   "execution_count": null,
   "id": "71d48f9d",
   "metadata": {},
   "outputs": [],
   "source": [
    "d"
   ]
  },
  {
   "cell_type": "code",
   "execution_count": null,
   "id": "c7bf27b6",
   "metadata": {},
   "outputs": [],
   "source": [
    "c = {4,2,6.6}"
   ]
  },
  {
   "cell_type": "code",
   "execution_count": null,
   "id": "f56f88f6",
   "metadata": {},
   "outputs": [],
   "source": [
    "a.difference(b)"
   ]
  },
  {
   "cell_type": "code",
   "execution_count": null,
   "id": "c2423cc9",
   "metadata": {},
   "outputs": [],
   "source": [
    "a,b,a.difference(b)"
   ]
  },
  {
   "cell_type": "code",
   "execution_count": null,
   "id": "bf9069a0",
   "metadata": {},
   "outputs": [],
   "source": [
    "a.discard(4)"
   ]
  },
  {
   "cell_type": "code",
   "execution_count": null,
   "id": "79255a4c",
   "metadata": {},
   "outputs": [],
   "source": [
    "a"
   ]
  },
  {
   "cell_type": "code",
   "execution_count": null,
   "id": "e8d10c00",
   "metadata": {},
   "outputs": [],
   "source": [
    "a.isdisjoint(b)"
   ]
  },
  {
   "cell_type": "code",
   "execution_count": null,
   "id": "bbddd0ff",
   "metadata": {},
   "outputs": [],
   "source": [
    "a,b,a.isdisjoint(b)"
   ]
  },
  {
   "cell_type": "code",
   "execution_count": null,
   "id": "9391d98e",
   "metadata": {},
   "outputs": [],
   "source": [
    "a,b,a.issubset(b)"
   ]
  },
  {
   "cell_type": "code",
   "execution_count": null,
   "id": "1f2cc473",
   "metadata": {},
   "outputs": [],
   "source": [
    "a = {1,2,3,4,5}\n",
    "b = {3,4,5,6,7,3,2,1,23}\n",
    "c = {'ablu',5,6,7,9}"
   ]
  },
  {
   "cell_type": "code",
   "execution_count": null,
   "id": "de98a7e2",
   "metadata": {},
   "outputs": [],
   "source": [
    "a,b,a.issubset(b)"
   ]
  },
  {
   "cell_type": "code",
   "execution_count": null,
   "id": "3226e615",
   "metadata": {},
   "outputs": [],
   "source": [
    "a,b,b.issubset(a)"
   ]
  },
  {
   "cell_type": "code",
   "execution_count": null,
   "id": "c977e4d0",
   "metadata": {},
   "outputs": [],
   "source": [
    "a,b,a.issuperset(b)"
   ]
  },
  {
   "cell_type": "code",
   "execution_count": null,
   "id": "35c88fe1",
   "metadata": {},
   "outputs": [],
   "source": [
    "a,b,b.issuperset(a)"
   ]
  },
  {
   "cell_type": "code",
   "execution_count": null,
   "id": "e0c07c1d",
   "metadata": {},
   "outputs": [],
   "source": [
    "b.pop()"
   ]
  },
  {
   "cell_type": "code",
   "execution_count": null,
   "id": "46834b5e",
   "metadata": {},
   "outputs": [],
   "source": [
    "a,b,c"
   ]
  },
  {
   "cell_type": "markdown",
   "id": "2f70c854",
   "metadata": {},
   "source": [
    "### Dictionaries..."
   ]
  },
  {
   "cell_type": "code",
   "execution_count": null,
   "id": "e595bbc6",
   "metadata": {},
   "outputs": [],
   "source": [
    "a = {\n",
    "  \"brand\": \"Ford\",\n",
    "  \"model\": \"Mustang\",\n",
    "  \"year\": 1964\n",
    "}"
   ]
  },
  {
   "cell_type": "code",
   "execution_count": null,
   "id": "270fa57c",
   "metadata": {},
   "outputs": [],
   "source": [
    "a"
   ]
  },
  {
   "cell_type": "code",
   "execution_count": null,
   "id": "5723e1af",
   "metadata": {},
   "outputs": [],
   "source": [
    "a['brand']"
   ]
  },
  {
   "cell_type": "code",
   "execution_count": null,
   "id": "89c2fab2",
   "metadata": {},
   "outputs": [],
   "source": [
    "#prnting the dictionaries...\n",
    "for i in a.keys():\n",
    "    print(i,'\\t',a[i])"
   ]
  },
  {
   "cell_type": "code",
   "execution_count": null,
   "id": "792e2526",
   "metadata": {},
   "outputs": [],
   "source": [
    "a = {\n",
    "  \"brand\": \"Ford\",\n",
    "  \"model\": \"Mustang\",\n",
    "  \"year\": 1964,\n",
    "  \"year\": 2020\n",
    "}\n",
    "print(thisdict)"
   ]
  },
  {
   "cell_type": "code",
   "execution_count": null,
   "id": "02436eb5",
   "metadata": {
    "scrolled": true
   },
   "outputs": [],
   "source": [
    "len(a)"
   ]
  },
  {
   "cell_type": "code",
   "execution_count": null,
   "id": "35ffb799",
   "metadata": {},
   "outputs": [],
   "source": [
    "type(dict)"
   ]
  },
  {
   "cell_type": "code",
   "execution_count": null,
   "id": "ac853a84",
   "metadata": {},
   "outputs": [],
   "source": [
    "## Access Dictionary Items..\n",
    "a['brand']"
   ]
  },
  {
   "cell_type": "code",
   "execution_count": null,
   "id": "3b9b8a1a",
   "metadata": {},
   "outputs": [],
   "source": [
    "a.get('brand')"
   ]
  },
  {
   "cell_type": "code",
   "execution_count": null,
   "id": "44843cc0",
   "metadata": {},
   "outputs": [],
   "source": [
    "a['year'] = 2022"
   ]
  },
  {
   "cell_type": "code",
   "execution_count": null,
   "id": "1d3d87ae",
   "metadata": {},
   "outputs": [],
   "source": [
    "a"
   ]
  },
  {
   "cell_type": "code",
   "execution_count": null,
   "id": "b7c5c459",
   "metadata": {},
   "outputs": [],
   "source": [
    "a.keys(),a.values()"
   ]
  },
  {
   "cell_type": "code",
   "execution_count": null,
   "id": "dcfbd70f",
   "metadata": {},
   "outputs": [],
   "source": [
    "a.items()"
   ]
  },
  {
   "cell_type": "code",
   "execution_count": null,
   "id": "48aeffab",
   "metadata": {},
   "outputs": [],
   "source": [
    "print(a.items())"
   ]
  },
  {
   "cell_type": "code",
   "execution_count": null,
   "id": "2cb2cd77",
   "metadata": {},
   "outputs": [],
   "source": [
    "type(a.items())"
   ]
  },
  {
   "cell_type": "code",
   "execution_count": null,
   "id": "b4c06501",
   "metadata": {},
   "outputs": [],
   "source": [
    "#check if model key is existed in the dictionary...\n",
    "if 'model' in a:\n",
    "    print('Model is existed')"
   ]
  },
  {
   "cell_type": "code",
   "execution_count": null,
   "id": "ee6afa79",
   "metadata": {},
   "outputs": [],
   "source": [
    "a.update({'year':2010})"
   ]
  },
  {
   "cell_type": "code",
   "execution_count": null,
   "id": "f3c965d4",
   "metadata": {},
   "outputs": [],
   "source": [
    "a"
   ]
  },
  {
   "cell_type": "code",
   "execution_count": null,
   "id": "0fac16a7",
   "metadata": {},
   "outputs": [],
   "source": [
    "a['color'] = 'RED'"
   ]
  },
  {
   "cell_type": "code",
   "execution_count": null,
   "id": "457fce85",
   "metadata": {},
   "outputs": [],
   "source": [
    "a"
   ]
  },
  {
   "cell_type": "code",
   "execution_count": null,
   "id": "13644717",
   "metadata": {},
   "outputs": [],
   "source": [
    "a.update({'Color':'red'})"
   ]
  },
  {
   "cell_type": "code",
   "execution_count": null,
   "id": "f895a2fb",
   "metadata": {},
   "outputs": [],
   "source": [
    "a"
   ]
  },
  {
   "cell_type": "code",
   "execution_count": null,
   "id": "3d063b93",
   "metadata": {},
   "outputs": [],
   "source": [
    "a.popitem()"
   ]
  },
  {
   "cell_type": "code",
   "execution_count": null,
   "id": "216b6052",
   "metadata": {},
   "outputs": [],
   "source": [
    "a"
   ]
  },
  {
   "cell_type": "code",
   "execution_count": null,
   "id": "f6e47d8c",
   "metadata": {},
   "outputs": [],
   "source": [
    "a['Color']='red'\n",
    "a"
   ]
  },
  {
   "cell_type": "code",
   "execution_count": null,
   "id": "98fcaa4d",
   "metadata": {},
   "outputs": [],
   "source": [
    "a.pop('Color')"
   ]
  },
  {
   "cell_type": "code",
   "execution_count": null,
   "id": "c6a74221",
   "metadata": {},
   "outputs": [],
   "source": [
    "a"
   ]
  },
  {
   "cell_type": "code",
   "execution_count": null,
   "id": "33512668",
   "metadata": {},
   "outputs": [],
   "source": [
    "b = a.copy()\n",
    "b"
   ]
  },
  {
   "cell_type": "code",
   "execution_count": null,
   "id": "c405401e",
   "metadata": {},
   "outputs": [],
   "source": []
  },
  {
   "cell_type": "code",
   "execution_count": null,
   "id": "9a63ec1b",
   "metadata": {},
   "outputs": [],
   "source": [
    "b.clear()"
   ]
  },
  {
   "cell_type": "code",
   "execution_count": null,
   "id": "a0ef39f4",
   "metadata": {},
   "outputs": [],
   "source": [
    "b"
   ]
  },
  {
   "cell_type": "code",
   "execution_count": null,
   "id": "872ab1b5",
   "metadata": {},
   "outputs": [],
   "source": [
    "#Looop Dictionareis...\n",
    "\n",
    "for i in a:\n",
    "    print(i,'   ',a[i ])"
   ]
  },
  {
   "cell_type": "code",
   "execution_count": null,
   "id": "b5f04857",
   "metadata": {},
   "outputs": [],
   "source": [
    "for i,j in a.items():\n",
    "    print(i,j)"
   ]
  },
  {
   "cell_type": "code",
   "execution_count": null,
   "id": "02586e95",
   "metadata": {},
   "outputs": [],
   "source": [
    "#copy dictionaries...\n",
    "b = dict(a)"
   ]
  },
  {
   "cell_type": "code",
   "execution_count": null,
   "id": "4c64d7e6",
   "metadata": {},
   "outputs": [],
   "source": [
    "b"
   ]
  },
  {
   "cell_type": "code",
   "execution_count": null,
   "id": "7ed9623e",
   "metadata": {},
   "outputs": [],
   "source": [
    "#nested dictionaries...\n",
    "\n",
    "myfamily = {\n",
    "  \"child1\" : {\n",
    "    \"name\" : \"Emil\",\n",
    "    \"year\" : 2004\n",
    "  },\n",
    "  \"child2\" : {\n",
    "    \"name\" : \"Tobias\",\n",
    "    \"year\" : 2007\n",
    "  },\n",
    "  \"child3\" : {\n",
    "    \"name\" : \"Linus\",\n",
    "    \"year\" : 2011\n",
    "  }\n",
    "}\n"
   ]
  },
  {
   "cell_type": "code",
   "execution_count": null,
   "id": "3d2008ad",
   "metadata": {},
   "outputs": [],
   "source": [
    "for i,j in myfamily.items():\n",
    "    print(i)\n",
    "    for x,y in j.items():\n",
    "        print(x,' \\t',y)\n",
    "    print('\\n')"
   ]
  },
  {
   "cell_type": "code",
   "execution_count": null,
   "id": "e3928e1f",
   "metadata": {},
   "outputs": [],
   "source": [
    "a.setdefault('balu') #setdeafault will create the value with none if does nto exisst else return orginall..\n",
    "a"
   ]
  },
  {
   "cell_type": "markdown",
   "id": "3d3a9a2a",
   "metadata": {},
   "source": [
    "### Python conditions..."
   ]
  },
  {
   "cell_type": "code",
   "execution_count": null,
   "id": "00b0fb5a",
   "metadata": {},
   "outputs": [],
   "source": [
    "a = 20\n",
    "b= 10\n",
    "print('a is big') if a>b else print('b is big')"
   ]
  },
  {
   "cell_type": "code",
   "execution_count": null,
   "id": "0d62dfd8",
   "metadata": {},
   "outputs": [],
   "source": [
    "a = 10\n",
    "b = 1\n",
    "print(\"A\") if a > b else print(\"=\") if a == b else print(\"B\")"
   ]
  },
  {
   "cell_type": "code",
   "execution_count": null,
   "id": "d31bca89",
   "metadata": {},
   "outputs": [],
   "source": [
    "a = 'dood'\n",
    "b = 'puspdlkufsdf'\n",
    "print('letter \"A\" in b and a')  if 'a' in b and 'a' in b else print( 'letter \"A\" is only in a') if 'a' in a and 'a' not in b \\\n",
    "else print( 'letter \"A\" is only in b') if 'a' in b and 'a' not in a else print('letter \"A\" is not found in both variables')"
   ]
  },
  {
   "cell_type": "markdown",
   "id": "ef7cd553",
   "metadata": {},
   "source": [
    "### While loops and For loops..."
   ]
  },
  {
   "cell_type": "code",
   "execution_count": null,
   "id": "a806334a",
   "metadata": {
    "scrolled": false
   },
   "outputs": [],
   "source": [
    "# while loop ...\n",
    "i = 0\n",
    "text = \"Data can be pre-existing, newly acquired, or a data repository downloadable from the internet. Data scientists can extract data from internal or external databases, company CRM software, web server logs, social media or purchase it from trusted third-party sources.\"\n",
    "text = text.split()\n",
    "while i<len(text):\n",
    "    print(i, \" --->  \",text[i])\n",
    "    i +=1\n",
    "    if text[i] =='social' : print(i, \" --->  \",text[i],'\\nsocial is appeared at {} index '.format(i)) ;break"
   ]
  },
  {
   "cell_type": "code",
   "execution_count": null,
   "id": "6c17f9ae",
   "metadata": {},
   "outputs": [],
   "source": [
    "i = 0\n",
    "while i<10:\n",
    "    i +=1\n",
    "    if i==3:\n",
    "        continue\n",
    "    print(i)"
   ]
  },
  {
   "cell_type": "code",
   "execution_count": null,
   "id": "f733facd",
   "metadata": {},
   "outputs": [],
   "source": [
    "#else with ii\n",
    "i = 0\n",
    "while i<len(text):\n",
    "    if 'balu' in text[i]:\n",
    "        print('i found at {}'.format(i))\n",
    "    else: print(i,'--->Balu not found')\n",
    "    i+=1\n",
    "else:\n",
    "    print('i is not lonager available than {}'.format(i))"
   ]
  },
  {
   "cell_type": "code",
   "execution_count": null,
   "id": "a1601618",
   "metadata": {},
   "outputs": [],
   "source": [
    "###For loop..\n",
    "fruits = ['bala', 'rama','raju']\n",
    "for i in fruits:\n",
    "    print(i)"
   ]
  },
  {
   "cell_type": "code",
   "execution_count": null,
   "id": "71933c06",
   "metadata": {},
   "outputs": [],
   "source": [
    "###For loop..break\n",
    "fruits = ['bala', 'rama','raju']\n",
    "for i in fruits:\n",
    "    print(i)\n",
    "    if i =='rama':\n",
    "        break\n",
    "   "
   ]
  },
  {
   "cell_type": "code",
   "execution_count": null,
   "id": "c9b2647f",
   "metadata": {},
   "outputs": [],
   "source": [
    "###For loop..countinue\n",
    "fruits = ['bala', 'rama','raju']\n",
    "for i in fruits:\n",
    "    \n",
    "    if i =='rama':\n",
    "        continue\n",
    "    print(i)"
   ]
  },
  {
   "cell_type": "code",
   "execution_count": null,
   "id": "fe160244",
   "metadata": {},
   "outputs": [],
   "source": [
    "for i in range(1,16,2):\n",
    "    print(i)"
   ]
  },
  {
   "cell_type": "code",
   "execution_count": null,
   "id": "5c3af1c7",
   "metadata": {},
   "outputs": [],
   "source": [
    "[i for  i in range(1,16,2)]"
   ]
  },
  {
   "cell_type": "code",
   "execution_count": null,
   "id": "5d1751fd",
   "metadata": {},
   "outputs": [],
   "source": [
    "for i in range(1,16,2):\n",
    "    print(i)\n",
    "else :\n",
    "    print('for loop ended')"
   ]
  },
  {
   "cell_type": "code",
   "execution_count": null,
   "id": "87a76234",
   "metadata": {},
   "outputs": [],
   "source": [
    "#nested loops...\n",
    "temp =0\n",
    "for i in range(0,21,5):\n",
    "    if i == temp+5:\n",
    "        print('##################')\n",
    "        for j in range(i,temp,-1):\n",
    "            print(j)\n",
    "        temp+=5"
   ]
  },
  {
   "cell_type": "code",
   "execution_count": null,
   "id": "091378b1",
   "metadata": {},
   "outputs": [],
   "source": [
    "a  = '4445444'\n",
    "print('a is amstrong') if a[::-1]==a else print('a is not amstrong')"
   ]
  },
  {
   "cell_type": "markdown",
   "id": "e71385b4",
   "metadata": {},
   "source": [
    "### Creating Functions.."
   ]
  },
  {
   "cell_type": "code",
   "execution_count": null,
   "id": "c3a9ec7f",
   "metadata": {},
   "outputs": [],
   "source": [
    "#creating functions... in python.\n",
    "\n",
    "def add(a,b):\n",
    "    return a+b\n",
    "add(3,4)"
   ]
  },
  {
   "cell_type": "code",
   "execution_count": null,
   "id": "70c7f8ea",
   "metadata": {},
   "outputs": [],
   "source": [
    "#unknown arguments...\n",
    "def add(*args):\n",
    "    a = list(args)\n",
    "    print('value    int/not')\n",
    "    for i in a:\n",
    "        print(i,'\\t',isinstance(i,int))\n",
    "\n",
    "    \n",
    "add(1,2,33,'balu',True)"
   ]
  },
  {
   "cell_type": "code",
   "execution_count": null,
   "id": "6a568257",
   "metadata": {},
   "outputs": [],
   "source": [
    "def add(a,b,c):\n",
    "    print(a,b,c)\n",
    "    \n",
    "add(a=10,c=20,b=80)"
   ]
  },
  {
   "cell_type": "code",
   "execution_count": null,
   "id": "c0904741",
   "metadata": {},
   "outputs": [],
   "source": [
    "def add(**a):\n",
    " \n",
    "    print(a)\n",
    "\n",
    "    \n",
    "add(a=10,c=20,b=80)"
   ]
  },
  {
   "cell_type": "code",
   "execution_count": null,
   "id": "876bd9d7",
   "metadata": {},
   "outputs": [],
   "source": [
    "def add(**args):\n",
    " \n",
    "    print(args)\n",
    "\n",
    "    \n",
    "add(a=10,c=20,b=80)"
   ]
  },
  {
   "cell_type": "code",
   "execution_count": null,
   "id": "d72c86b3",
   "metadata": {},
   "outputs": [],
   "source": [
    "def add(a=56):\n",
    "    print(a)\n",
    "    \n",
    "add()"
   ]
  },
  {
   "cell_type": "code",
   "execution_count": null,
   "id": "1f65f7bc",
   "metadata": {},
   "outputs": [],
   "source": [
    "r = 1\n",
    "for i in [n for n in range(1,11)]:\n",
    "    r *= i\n",
    "    \n",
    "    print(r)"
   ]
  },
  {
   "cell_type": "code",
   "execution_count": null,
   "id": "d63db149",
   "metadata": {},
   "outputs": [],
   "source": [
    "def tri_recursion(k):\n",
    "    print('###',k)\n",
    "    if(k > 0):\n",
    "       \n",
    "        result = k + tri_recursion(k - 1)\n",
    "\n",
    "        print(result)\n",
    "    else:\n",
    "        result = 0\n",
    "    return result\n",
    "\n",
    "print(\"\\n\\nRecursion Example Results\")\n",
    "tri_recursion(5)"
   ]
  },
  {
   "cell_type": "markdown",
   "id": "acd4554b",
   "metadata": {},
   "source": [
    "### lambda..."
   ]
  },
  {
   "cell_type": "code",
   "execution_count": null,
   "id": "1f33e20f",
   "metadata": {},
   "outputs": [],
   "source": [
    "x = lambda a : a + 10\n",
    "print(x(10)) # 10 is added to the lambda... funciton..."
   ]
  },
  {
   "cell_type": "code",
   "execution_count": null,
   "id": "b6831cca",
   "metadata": {},
   "outputs": [],
   "source": [
    "x = lambda a,b : a*b\n",
    "x(10,20)"
   ]
  },
  {
   "cell_type": "code",
   "execution_count": null,
   "id": "3af70a75",
   "metadata": {},
   "outputs": [],
   "source": [
    "for i in range(1,20):\n",
    "    j = 'Balu '\n",
    "    l = lambda a,b : a * b\n",
    "    print(l(i,j))"
   ]
  },
  {
   "cell_type": "markdown",
   "id": "e51d8547",
   "metadata": {},
   "source": [
    "### Arrays..."
   ]
  },
  {
   "cell_type": "code",
   "execution_count": null,
   "id": "1d1a1863",
   "metadata": {},
   "outputs": [],
   "source": [
    "cars = [\"Ford\", \"Volvo\", \"BMW\"]"
   ]
  },
  {
   "cell_type": "code",
   "execution_count": null,
   "id": "28817eba",
   "metadata": {},
   "outputs": [],
   "source": [
    "cars"
   ]
  },
  {
   "cell_type": "code",
   "execution_count": null,
   "id": "ca66ff25",
   "metadata": {},
   "outputs": [],
   "source": [
    "cars[::-1]"
   ]
  },
  {
   "cell_type": "code",
   "execution_count": null,
   "id": "d16a3bab",
   "metadata": {},
   "outputs": [],
   "source": [
    "for i in cars:\n",
    "    print(i)"
   ]
  },
  {
   "cell_type": "code",
   "execution_count": null,
   "id": "12804ab6",
   "metadata": {},
   "outputs": [],
   "source": [
    "cars.append('Honda')"
   ]
  },
  {
   "cell_type": "code",
   "execution_count": null,
   "id": "394dc1f2",
   "metadata": {},
   "outputs": [],
   "source": [
    "cars"
   ]
  },
  {
   "cell_type": "code",
   "execution_count": null,
   "id": "2700737f",
   "metadata": {},
   "outputs": [],
   "source": [
    "cars.pop(1)"
   ]
  },
  {
   "cell_type": "code",
   "execution_count": null,
   "id": "5d9d9fef",
   "metadata": {},
   "outputs": [],
   "source": [
    "cars"
   ]
  },
  {
   "cell_type": "markdown",
   "id": "f973fd36",
   "metadata": {},
   "source": [
    "### Classes and objects.."
   ]
  },
  {
   "cell_type": "code",
   "execution_count": null,
   "id": "6c1919ca",
   "metadata": {},
   "outputs": [],
   "source": [
    "class age:\n",
    "    age = 100\n",
    "age.age"
   ]
  },
  {
   "cell_type": "code",
   "execution_count": null,
   "id": "18e6eb6b",
   "metadata": {},
   "outputs": [],
   "source": [
    "#create object.....\n",
    "class ap:\n",
    "    '''def __init__(self,distict,city):\n",
    "        self.distict = distict\n",
    "        self.city = city'''\n",
    "    def __str__(self,distict,city):\n",
    "        \n",
    "         self.distict = distict\n",
    "         self.city = city\n",
    "    \n",
    "ap.distict = 'anakapallie'\n",
    "ap.city = 'atchutapuram'\n",
    "\n",
    "print(ap.distict)\n",
    "print(ap.city)\n"
   ]
  },
  {
   "cell_type": "code",
   "execution_count": null,
   "id": "7dbccf78",
   "metadata": {},
   "outputs": [],
   "source": [
    "#create object.....\n",
    "class ap:\n",
    "    def __init__(self,distict,city):\n",
    "        self.distict = distict\n",
    "        self.city = city\n",
    "    def __str__(self):\n",
    "        return f\"{self.distict} ({self.city})\"\n",
    "    \n",
    "ap.distict = 'anakapallie'\n",
    "ap.city = 'atchutapuram'\n",
    "\n",
    "state = ap('visakhapatnam','anakapalli')\n",
    "print(state)"
   ]
  },
  {
   "cell_type": "code",
   "execution_count": null,
   "id": "66aadcf8",
   "metadata": {},
   "outputs": [],
   "source": [
    "class Person:\n",
    "  def __init__(self, name, age):\n",
    "    self.name = name\n",
    "    self.age = age\n",
    "\n",
    "  def __str__(self):\n",
    "    return f\"{self.name}({self.age})\"\n",
    "\n",
    "p1 = Person(\"John\", 36)\n",
    "\n",
    "print(p1)"
   ]
  },
  {
   "cell_type": "markdown",
   "id": "fdde4532",
   "metadata": {},
   "source": [
    "### Object Methonds..."
   ]
  },
  {
   "cell_type": "code",
   "execution_count": null,
   "id": "b9fb1cc0",
   "metadata": {},
   "outputs": [],
   "source": [
    "class calculator:\n",
    "    def __init__(self,a,b):\n",
    "        self.a = a\n",
    "        self.b = b\n",
    "    def add(self):\n",
    "        return self.a+self.b\n",
    "    def sub(self):\n",
    "        return self.a - self.b\n",
    "    def mul(self):\n",
    "        return a*b\n",
    "    def div(self):\n",
    "        return self.a / self.b\n",
    "    def power(self):\n",
    "        return self.a ** self.b\n",
    "    #str function...\n",
    "    def __str__(self):\n",
    "        print('result')\n",
    "    \n",
    "cal = calculator(12 , 10)\n",
    "cal.add()\n",
    "cal.sub()"
   ]
  },
  {
   "cell_type": "code",
   "execution_count": null,
   "id": "6e8a0f76",
   "metadata": {},
   "outputs": [],
   "source": [
    "cal.div()"
   ]
  },
  {
   "cell_type": "code",
   "execution_count": null,
   "id": "0f8647e0",
   "metadata": {},
   "outputs": [],
   "source": [
    "cal.power()"
   ]
  },
  {
   "cell_type": "code",
   "execution_count": null,
   "id": "7af508da",
   "metadata": {},
   "outputs": [],
   "source": [
    "cal.add()"
   ]
  },
  {
   "cell_type": "code",
   "execution_count": null,
   "id": "3ef37c70",
   "metadata": {},
   "outputs": [],
   "source": [
    "class circle:\n",
    "    def __init__(proparties,color,size):\n",
    "        proparties.color = color\n",
    "        proparties.size = size\n",
    "        \n",
    "    def layer(border,color,size):\n",
    "        border.color = color\n",
    "        border.size = size\n",
    "        print('The border color is {} with size {}'.format(color,size))\n",
    "        \n",
    "c = circle('red',20)\n",
    "print(c.color)\n",
    "print(c.size)\n",
    "c.layer('blue',4)\n",
    "c = circle('red',20)\n",
    "print(c.color)\n",
    "print(c.size)"
   ]
  },
  {
   "cell_type": "code",
   "execution_count": null,
   "id": "6b0e74f9",
   "metadata": {},
   "outputs": [],
   "source": [
    "c.color = 'yellow'\n",
    "c.color"
   ]
  },
  {
   "cell_type": "code",
   "execution_count": null,
   "id": "d6564de9",
   "metadata": {},
   "outputs": [],
   "source": [
    "del c.color"
   ]
  },
  {
   "cell_type": "code",
   "execution_count": null,
   "id": "f2db2b20",
   "metadata": {},
   "outputs": [],
   "source": [
    "del c"
   ]
  },
  {
   "cell_type": "markdown",
   "id": "893b84a8",
   "metadata": {},
   "source": [
    "### Ineritance..\n",
    "Inheritance allows us to define a class that inherits all the methods and properties from another class.\n",
    "\n",
    "Parent class is the class being inherited from, also called base class.\n",
    "\n",
    "Child class is the class that inherits from another class, also called derived class."
   ]
  },
  {
   "cell_type": "code",
   "execution_count": null,
   "id": "4778989a",
   "metadata": {},
   "outputs": [],
   "source": [
    "# Creating a parent Class...\n",
    "class circle:\n",
    "    def __init__(self,color,size):\n",
    "        self.color = color\n",
    "        self.size = size\n",
    "        \n",
    "    def printname(self):\n",
    "        print(self.color,'\\t', self.size)\n",
    "x = circle('Red',32)\n",
    "x.printname() #this prints the data we have givennn.. to the class..."
   ]
  },
  {
   "cell_type": "code",
   "execution_count": null,
   "id": "a8749162",
   "metadata": {},
   "outputs": [],
   "source": [
    "##Creating a Child Class...\n",
    "class shape(circle):\n",
    "    pass\n",
    "\n",
    "s = shape('yellow',50)\n",
    "s.printname()"
   ]
  },
  {
   "cell_type": "code",
   "execution_count": null,
   "id": "01febbc4",
   "metadata": {},
   "outputs": [],
   "source": [
    "x.printname()"
   ]
  },
  {
   "cell_type": "code",
   "execution_count": null,
   "id": "7e2f8935",
   "metadata": {},
   "outputs": [],
   "source": [
    "class shape(circle):\n",
    "    def __init__(self,color,size):\n",
    "        self.color = color\n",
    "        self.size = size\n",
    "s = shape('red',56)\n",
    "s.color"
   ]
  },
  {
   "cell_type": "code",
   "execution_count": null,
   "id": "8d376a1d",
   "metadata": {},
   "outputs": [],
   "source": [
    "#inherit both parent and child features...\n",
    "class shape(circle):\n",
    "    def __init__(self,color,size):\n",
    "        circle.__init__(self,color,size)\n",
    "s = shape('red',56)\n",
    "s.printname()"
   ]
  },
  {
   "cell_type": "code",
   "execution_count": null,
   "id": "7e365eb6",
   "metadata": {},
   "outputs": [],
   "source": [
    "x.printname()"
   ]
  },
  {
   "cell_type": "code",
   "execution_count": null,
   "id": "59e32ae3",
   "metadata": {},
   "outputs": [],
   "source": [
    "class shape(circle):\n",
    "    def __init__(self,color,size):\n",
    "        super().__init__(color,size) #self parameter not required...\n",
    "s = shape('red',56)\n",
    "s.printname()"
   ]
  },
  {
   "cell_type": "code",
   "execution_count": null,
   "id": "312a43c3",
   "metadata": {},
   "outputs": [],
   "source": [
    "#add propoerties...\n",
    "class shape(circle):\n",
    "    def __init__(self,color,size,shape):\n",
    "        super().__init__(color,size) #self parameter not required...\n",
    "        self.shape = shape\n",
    "    def printname2(self):\n",
    "        return print(self.shape)\n",
    "s = shape('red',56,'circle')\n",
    "s.printname()\n",
    "s.printname2()"
   ]
  },
  {
   "cell_type": "code",
   "execution_count": null,
   "id": "1a82ab2a",
   "metadata": {},
   "outputs": [],
   "source": [
    "#add propoerties...\n",
    "class shape(circle):\n",
    "    def __init__(self,color,size,shape):\n",
    "        super().__init__(color,size) #self parameter not required...\n",
    "        self.shape = shape\n",
    "    def print2(self):\n",
    "        print(self.shape,\"shape have '{}' color and ''{}''size\".format(self.color,self.size))\n",
    "        \n",
    "s = shape('red',56,'circle')\n",
    "s.printname()\n",
    "s.print2()"
   ]
  },
  {
   "cell_type": "code",
   "execution_count": null,
   "id": "f0a38d6b",
   "metadata": {},
   "outputs": [],
   "source": [
    "### Practice classes parent and child..\n",
    "\n",
    "class shape:\n",
    "    def __init__(self,shape,color,size):\n",
    "        self.shape = shape\n",
    "        self.color = color\n",
    "        self.size = size\n",
    "    def print(self):\n",
    "        print(\"The '{}' have '{}'  length with '{}' Color.\".format(self.shape,self.size,self.color))\n",
    "        \n",
    "class circle(shape):\n",
    "    def __init__(self,color,size):\n",
    "        super().__init__('Circle',color,size)\n",
    "class rectangle(shape):\n",
    "    def __init__(self,color,size):\n",
    "        super().__init__('Rectangle',color,size)\n",
    "c = circle('Red',50)\n",
    "c.print()\n",
    "r = rectangle('Blue',25)\n",
    "r.print()"
   ]
  },
  {
   "cell_type": "code",
   "execution_count": null,
   "id": "f8bb85a5",
   "metadata": {},
   "outputs": [],
   "source": [
    "## Interator...\n",
    "\n",
    "a = ['name','age','Qualification']\n",
    "i = iter(a)\n",
    "print(next(i))\n",
    "print(next(i))\n",
    "print(next(i))"
   ]
  },
  {
   "cell_type": "code",
   "execution_count": null,
   "id": "68fb454d",
   "metadata": {},
   "outputs": [],
   "source": [
    "mystr = \"banana\"\n",
    "myit = iter(mystr)\n",
    "\n",
    "print(next(myit))\n",
    "print(next(myit))\n",
    "print(next(myit))\n",
    "print(next(myit))\n",
    "print(next(myit))\n",
    "print(next(myit))"
   ]
  },
  {
   "cell_type": "code",
   "execution_count": null,
   "id": "1c4deb76",
   "metadata": {},
   "outputs": [],
   "source": [
    "mytuple = (\"apple\", \"banana\", \"cherry\")\n",
    "\n",
    "for x in mytuple:\n",
    "  print(x)"
   ]
  },
  {
   "cell_type": "code",
   "execution_count": null,
   "id": "6c4ebe85",
   "metadata": {},
   "outputs": [],
   "source": [
    "mystr = \"banana\"\n",
    "\n",
    "for x in mystr:\n",
    "  print(x)"
   ]
  },
  {
   "cell_type": "code",
   "execution_count": null,
   "id": "336e8c2f",
   "metadata": {},
   "outputs": [],
   "source": [
    "#iter function creation\n",
    "\n",
    "class numbers:\n",
    "    def __iter__(self):\n",
    "        self.a = 1\n",
    "        return self\n",
    "    def __next__(self):\n",
    "        x = self.a\n",
    "        self.a += 1\n",
    "        return x\n",
    "    \n",
    "myclass = numbers()\n",
    "myiter = iter(myclass)\n",
    "\n",
    "print(next(myiter))\n",
    "print(next(myiter))\n",
    "print(next(myiter))\n",
    "print(next(myiter))\n"
   ]
  },
  {
   "cell_type": "code",
   "execution_count": null,
   "id": "74964997",
   "metadata": {},
   "outputs": [],
   "source": [
    "class numbers:\n",
    "    def __iter__(self):\n",
    "        self.a = 1\n",
    "        return self\n",
    "    def __next__(self):\n",
    "        if self.a<=20:\n",
    "            x = self.a\n",
    "            self.a +=1\n",
    "            return x\n",
    "        else:\n",
    "            raise StopIteration\n",
    "myclass = numbers()\n",
    "myiter = iter(myclass)\n",
    "\n",
    "for i in myiter:\n",
    "    print(i)"
   ]
  },
  {
   "cell_type": "code",
   "execution_count": null,
   "id": "b001b493",
   "metadata": {},
   "outputs": [],
   "source": [
    "def myfunc():\n",
    "  x = 300\n",
    "  print(x)\n",
    "\n",
    "myfunc()"
   ]
  },
  {
   "cell_type": "code",
   "execution_count": null,
   "id": "327ee403",
   "metadata": {},
   "outputs": [],
   "source": [
    "def myfunc():\n",
    "  x = 300\n",
    "  def myinnerfunc():\n",
    "    print(x)\n",
    "  myinnerfunc()\n",
    "\n",
    "myfunc()"
   ]
  },
  {
   "cell_type": "code",
   "execution_count": null,
   "id": "c8ff7c22",
   "metadata": {},
   "outputs": [],
   "source": [
    "x = 300\n",
    "\n",
    "def myfunc():\n",
    "  print(x)\n",
    "\n",
    "myfunc()\n",
    "\n",
    "print(x)"
   ]
  },
  {
   "cell_type": "code",
   "execution_count": null,
   "id": "b564c6cc",
   "metadata": {},
   "outputs": [],
   "source": [
    "x = 300\n",
    "\n",
    "def myfunc():\n",
    "  x = 200\n",
    "  print(x)\n",
    "\n",
    "myfunc()\n",
    "\n",
    "print(x)"
   ]
  },
  {
   "cell_type": "code",
   "execution_count": null,
   "id": "f8962f65",
   "metadata": {},
   "outputs": [],
   "source": [
    "def myfunc():\n",
    "  global x\n",
    "  x = 300\n",
    "\n",
    "myfunc()\n",
    "\n",
    "print(x)"
   ]
  },
  {
   "cell_type": "code",
   "execution_count": null,
   "id": "3fbff605",
   "metadata": {},
   "outputs": [],
   "source": [
    "x = 300\n",
    "\n",
    "def myfunc():\n",
    "  global x\n",
    "  x = 200\n",
    "\n",
    "myfunc()\n",
    "\n",
    "print(x)"
   ]
  },
  {
   "cell_type": "markdown",
   "id": "e49a158d",
   "metadata": {},
   "source": [
    "### Module..."
   ]
  },
  {
   "cell_type": "code",
   "execution_count": null,
   "id": "a9aa9e25",
   "metadata": {},
   "outputs": [],
   "source": [
    "import platform"
   ]
  },
  {
   "cell_type": "code",
   "execution_count": null,
   "id": "cb7d5fc2",
   "metadata": {},
   "outputs": [],
   "source": [
    "x = platform.system()"
   ]
  },
  {
   "cell_type": "code",
   "execution_count": null,
   "id": "2baf03d1",
   "metadata": {},
   "outputs": [],
   "source": [
    "x"
   ]
  },
  {
   "cell_type": "code",
   "execution_count": null,
   "id": "edcaa122",
   "metadata": {},
   "outputs": [],
   "source": [
    "dir(x)"
   ]
  },
  {
   "cell_type": "code",
   "execution_count": null,
   "id": "80ebad8b",
   "metadata": {},
   "outputs": [],
   "source": [
    "import datetime"
   ]
  },
  {
   "cell_type": "code",
   "execution_count": null,
   "id": "7f18a75a",
   "metadata": {},
   "outputs": [],
   "source": [
    "date = datetime.datetime.now()\n",
    "print(date)"
   ]
  },
  {
   "cell_type": "code",
   "execution_count": null,
   "id": "e2619ab3",
   "metadata": {},
   "outputs": [],
   "source": [
    "print(date.year)\n",
    "print(date.month)\n",
    "print(date.strftime('%A'))"
   ]
  },
  {
   "cell_type": "code",
   "execution_count": null,
   "id": "115f1b13",
   "metadata": {
    "scrolled": false
   },
   "outputs": [],
   "source": [
    "x = datetime.datetime(2022, 12, 7)\n",
    "\n",
    "print(x)"
   ]
  },
  {
   "cell_type": "code",
   "execution_count": null,
   "id": "4fb7e435",
   "metadata": {},
   "outputs": [],
   "source": [
    "x.strftime('%B')"
   ]
  },
  {
   "cell_type": "markdown",
   "id": "836a220a",
   "metadata": {},
   "source": [
    "### math Functions.."
   ]
  },
  {
   "cell_type": "code",
   "execution_count": null,
   "id": "59f2533d",
   "metadata": {},
   "outputs": [],
   "source": [
    "min(1,2)"
   ]
  },
  {
   "cell_type": "code",
   "execution_count": null,
   "id": "613b6865",
   "metadata": {},
   "outputs": [],
   "source": [
    "max(1,2)"
   ]
  },
  {
   "cell_type": "code",
   "execution_count": null,
   "id": "2d24e513",
   "metadata": {},
   "outputs": [],
   "source": [
    "pow(3,4)"
   ]
  },
  {
   "cell_type": "code",
   "execution_count": null,
   "id": "24a4a3b8",
   "metadata": {},
   "outputs": [],
   "source": [
    "pow(2,8)"
   ]
  },
  {
   "cell_type": "code",
   "execution_count": null,
   "id": "dab8265e",
   "metadata": {},
   "outputs": [],
   "source": [
    "abs(10/-3)"
   ]
  },
  {
   "cell_type": "code",
   "execution_count": null,
   "id": "225b3434",
   "metadata": {},
   "outputs": [],
   "source": [
    "import math"
   ]
  },
  {
   "cell_type": "code",
   "execution_count": null,
   "id": "a07ce7f3",
   "metadata": {},
   "outputs": [],
   "source": [
    "math.cos(45)"
   ]
  },
  {
   "cell_type": "code",
   "execution_count": null,
   "id": "edcb0bff",
   "metadata": {},
   "outputs": [],
   "source": [
    "math.sqrt(2)"
   ]
  },
  {
   "cell_type": "code",
   "execution_count": null,
   "id": "140faf87",
   "metadata": {},
   "outputs": [],
   "source": [
    "math.sqrt(10)"
   ]
  },
  {
   "cell_type": "code",
   "execution_count": null,
   "id": "ef8fd3b6",
   "metadata": {},
   "outputs": [],
   "source": [
    "math.sqrt(90)"
   ]
  },
  {
   "cell_type": "code",
   "execution_count": null,
   "id": "b01bc9fe",
   "metadata": {},
   "outputs": [],
   "source": [
    "math.factorial(3)"
   ]
  },
  {
   "cell_type": "code",
   "execution_count": null,
   "id": "078a5294",
   "metadata": {},
   "outputs": [],
   "source": [
    "import math\n",
    "\n",
    "x = math.ceil(1.6)\n",
    "y = math.floor(1.6)\n",
    "\n",
    "print(x) # returns 2\n",
    "print(y) # returns 1"
   ]
  },
  {
   "cell_type": "code",
   "execution_count": null,
   "id": "34064114",
   "metadata": {},
   "outputs": [],
   "source": [
    "round(1.6)"
   ]
  },
  {
   "cell_type": "code",
   "execution_count": null,
   "id": "8054ce5d",
   "metadata": {},
   "outputs": [],
   "source": [
    "math.pi"
   ]
  },
  {
   "cell_type": "markdown",
   "id": "1e5963b9",
   "metadata": {},
   "source": [
    "### Json in python.."
   ]
  },
  {
   "cell_type": "code",
   "execution_count": null,
   "id": "9b493491",
   "metadata": {},
   "outputs": [],
   "source": [
    "import json"
   ]
  },
  {
   "cell_type": "code",
   "execution_count": null,
   "id": "a466b5b4",
   "metadata": {},
   "outputs": [],
   "source": [
    "x =  '{ \"name\":\"John\", \"age\":30, \"city\":\"New York\"}'"
   ]
  },
  {
   "cell_type": "code",
   "execution_count": null,
   "id": "7ce8acb8",
   "metadata": {},
   "outputs": [],
   "source": [
    "y = json.loads(x)"
   ]
  },
  {
   "cell_type": "code",
   "execution_count": null,
   "id": "c50e3fa5",
   "metadata": {},
   "outputs": [],
   "source": [
    "y['age']"
   ]
  },
  {
   "cell_type": "code",
   "execution_count": null,
   "id": "80105862",
   "metadata": {},
   "outputs": [],
   "source": [
    "type(y)"
   ]
  },
  {
   "cell_type": "code",
   "execution_count": null,
   "id": "bf96b874",
   "metadata": {},
   "outputs": [],
   "source": [
    "y =json.dumps(y)"
   ]
  },
  {
   "cell_type": "code",
   "execution_count": null,
   "id": "34221d66",
   "metadata": {},
   "outputs": [],
   "source": [
    "import json\n",
    "\n",
    "# a Python object (dict):\n",
    "x = {\n",
    "  \"name\": \"John\",\n",
    "  \"age\": 30,\n",
    "  \"city\": \"New York\"\n",
    "}\n",
    "\n",
    "# convert into JSON:\n",
    "y = json.dumps(x)\n",
    "\n",
    "# the result is a JSON string:\n",
    "print(y)"
   ]
  },
  {
   "cell_type": "code",
   "execution_count": null,
   "id": "1ac42012",
   "metadata": {},
   "outputs": [],
   "source": [
    "print(json.dumps({\"name\": \"John\", \"age\": 30}))\n",
    "print(json.dumps([\"apple\", \"bananas\"]))\n",
    "print(json.dumps((\"apple\", \"bananas\")))\n",
    "print(json.dumps(\"hello\"))\n",
    "print(json.dumps(42))\n",
    "print(json.dumps(31.76))\n",
    "print(json.dumps(True))\n",
    "print(json.dumps(False))\n",
    "print(json.dumps(None))"
   ]
  },
  {
   "cell_type": "code",
   "execution_count": null,
   "id": "55aa06b4",
   "metadata": {},
   "outputs": [],
   "source": [
    "type(json.dumps((\"apple\", \"bananas\")))"
   ]
  },
  {
   "cell_type": "code",
   "execution_count": null,
   "id": "f1c2417e",
   "metadata": {},
   "outputs": [],
   "source": [
    "x = {\n",
    "  \"name\": \"John\",\n",
    "  \"age\": 30,\n",
    "  \"married\": True,\n",
    "  \"divorced\": False,\n",
    "  \"children\": (\"Ann\",\"Billy\"),\n",
    "  \"pets\": None,\n",
    "  \"cars\": [\n",
    "    {\"model\": \"BMW 230\", \"mpg\": 27.5},\n",
    "    {\"model\": \"Ford Edge\", \"mpg\": 24.1}\n",
    "  ]\n",
    "}\n",
    "\n",
    "print(json.dumps(x))"
   ]
  },
  {
   "cell_type": "code",
   "execution_count": null,
   "id": "b32d99c0",
   "metadata": {},
   "outputs": [],
   "source": [
    "type(json.dumps(x))"
   ]
  },
  {
   "cell_type": "code",
   "execution_count": null,
   "id": "1572afb7",
   "metadata": {},
   "outputs": [],
   "source": [
    "x['cars'][0]['mpg']"
   ]
  },
  {
   "cell_type": "code",
   "execution_count": null,
   "id": "087f05bd",
   "metadata": {},
   "outputs": [],
   "source": [
    "## Format the result..."
   ]
  },
  {
   "cell_type": "code",
   "execution_count": null,
   "id": "a8ab1b4d",
   "metadata": {},
   "outputs": [],
   "source": [
    "print(json.dumps(x,indent=5))"
   ]
  },
  {
   "cell_type": "code",
   "execution_count": null,
   "id": "c3a39ead",
   "metadata": {},
   "outputs": [],
   "source": [
    "print(json.dumps(x,indent=5,separators=(\"\\t \", \" >> \"),sort_keys=True))"
   ]
  },
  {
   "cell_type": "markdown",
   "id": "602898d0",
   "metadata": {},
   "source": [
    "### Regular Expressions..."
   ]
  },
  {
   "cell_type": "code",
   "execution_count": null,
   "id": "56d1a209",
   "metadata": {},
   "outputs": [],
   "source": [
    "import re"
   ]
  },
  {
   "cell_type": "code",
   "execution_count": null,
   "id": "a41b0d74",
   "metadata": {},
   "outputs": [],
   "source": [
    "txt = \"The rain in Spain\"\n",
    "x = re.search(\"^The.*Spain$\", txt)\n",
    "x"
   ]
  },
  {
   "cell_type": "code",
   "execution_count": null,
   "id": "383d1d09",
   "metadata": {},
   "outputs": [],
   "source": [
    "x = 'Balu is a bad boy'\n",
    "\n",
    "y = re.search(\"^Balu.+boy$\",x)\n",
    "if y:\n",
    "    print('match')\n",
    "else:\n",
    "    print('not found')"
   ]
  },
  {
   "cell_type": "code",
   "execution_count": null,
   "id": "00398524",
   "metadata": {},
   "outputs": [],
   "source": [
    "re.findall('bad',x)"
   ]
  },
  {
   "cell_type": "markdown",
   "id": "6b3452fe",
   "metadata": {},
   "source": [
    "### REgular Expressions"
   ]
  },
  {
   "cell_type": "code",
   "execution_count": null,
   "id": "0655e4ef",
   "metadata": {},
   "outputs": [],
   "source": []
  }
 ],
 "metadata": {
  "kernelspec": {
   "display_name": "Python 3 (ipykernel)",
   "language": "python",
   "name": "python3"
  },
  "language_info": {
   "codemirror_mode": {
    "name": "ipython",
    "version": 3
   },
   "file_extension": ".py",
   "mimetype": "text/x-python",
   "name": "python",
   "nbconvert_exporter": "python",
   "pygments_lexer": "ipython3",
   "version": "3.8.8"
  }
 },
 "nbformat": 4,
 "nbformat_minor": 5
}
