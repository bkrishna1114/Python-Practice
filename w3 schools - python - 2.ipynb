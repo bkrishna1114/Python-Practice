{
 "cells": [
  {
   "cell_type": "markdown",
   "id": "913de4fd",
   "metadata": {},
   "source": [
    "### Regular Expressions.."
   ]
  },
  {
   "cell_type": "code",
   "execution_count": 1,
   "id": "e0456fb1",
   "metadata": {},
   "outputs": [],
   "source": [
    "import re"
   ]
  },
  {
   "cell_type": "code",
   "execution_count": 2,
   "id": "b5d0c06e",
   "metadata": {},
   "outputs": [],
   "source": [
    "a = 'bala is a bad boy'"
   ]
  },
  {
   "cell_type": "code",
   "execution_count": 3,
   "id": "a58586b5",
   "metadata": {},
   "outputs": [],
   "source": [
    "x=re.search(\"^bala.*boy$\",a)\n",
    "\n",
    "def r(a):\n",
    "    if x:\n",
    "        return 'match'\n",
    "    else:\n",
    "        return 'not match'\n",
    "    "
   ]
  },
  {
   "cell_type": "code",
   "execution_count": 4,
   "id": "5a8e470d",
   "metadata": {},
   "outputs": [
    {
     "ename": "NameError",
     "evalue": "name 'rr' is not defined",
     "output_type": "error",
     "traceback": [
      "\u001b[1;31m---------------------------------------------------------------------------\u001b[0m",
      "\u001b[1;31mNameError\u001b[0m                                 Traceback (most recent call last)",
      "\u001b[1;32m~\\AppData\\Local\\Temp\\ipykernel_9956\\3756454975.py\u001b[0m in \u001b[0;36m<module>\u001b[1;34m\u001b[0m\n\u001b[1;32m----> 1\u001b[1;33m \u001b[0mrr\u001b[0m\u001b[1;33m(\u001b[0m\u001b[0ma\u001b[0m\u001b[1;33m)\u001b[0m\u001b[1;33m\u001b[0m\u001b[1;33m\u001b[0m\u001b[0m\n\u001b[0m",
      "\u001b[1;31mNameError\u001b[0m: name 'rr' is not defined"
     ]
    }
   ],
   "source": [
    "rr(a)"
   ]
  },
  {
   "cell_type": "code",
   "execution_count": null,
   "id": "48deb6a8",
   "metadata": {},
   "outputs": [],
   "source": [
    "#Find alll....\n",
    "rr(re.findall(\"zz\",a))"
   ]
  },
  {
   "cell_type": "markdown",
   "id": "18dc10a3",
   "metadata": {},
   "source": [
    "Search - "
   ]
  },
  {
   "cell_type": "code",
   "execution_count": null,
   "id": "e056cfa2",
   "metadata": {},
   "outputs": [],
   "source": [
    "#First white space character...\n",
    "txt = \"The rain in Spain\"\n",
    "x = re.search(\"\\s\", txt)\n",
    "\n",
    "print(\"The first white-space character is located in position:\", x.start())"
   ]
  },
  {
   "cell_type": "code",
   "execution_count": null,
   "id": "bdaa173e",
   "metadata": {},
   "outputs": [],
   "source": [
    "#practice the first space charcter..\n",
    "\n",
    "x = re.search('\\s',a)\n",
    "print('First space character index is : ',x.start())\n",
    "a"
   ]
  },
  {
   "cell_type": "code",
   "execution_count": null,
   "id": "9e51daec",
   "metadata": {},
   "outputs": [],
   "source": [
    "x = re.search('bala',a)\n",
    "print(x.start(),x.end())"
   ]
  },
  {
   "cell_type": "code",
   "execution_count": null,
   "id": "8f05e753",
   "metadata": {},
   "outputs": [],
   "source": [
    "#Split..\n",
    "\n",
    "a = 'a+456,+ 456-456 + bala+56'\n",
    "a = 'bala is a bad boy'\n",
    "x = re.split('\\s',a,3) # the position will gave the value..\n",
    "print(x)\n"
   ]
  },
  {
   "cell_type": "markdown",
   "id": "6d0db74e",
   "metadata": {},
   "source": [
    "#### sub()  - Replaces the space with values.."
   ]
  },
  {
   "cell_type": "code",
   "execution_count": null,
   "id": "d79f4bae",
   "metadata": {},
   "outputs": [],
   "source": [
    "x = re.sub('\\s',' * ',a)\n",
    "print(x)"
   ]
  },
  {
   "cell_type": "code",
   "execution_count": null,
   "id": "0a3bd750",
   "metadata": {},
   "outputs": [],
   "source": [
    "x = re.sub('\\s','(*)',a,2) #only first tow characters will be replaced...\n",
    "print(x)"
   ]
  },
  {
   "cell_type": "markdown",
   "id": "d3d3e6a1",
   "metadata": {},
   "source": [
    "#### Match Object.."
   ]
  },
  {
   "cell_type": "code",
   "execution_count": null,
   "id": "a1040609",
   "metadata": {},
   "outputs": [],
   "source": [
    "text = 'Bala is mca psot graduate and a self employee at Pwcjob and student at college'\n",
    "\n",
    "x = re.search(r\"\\bP\\w+\",text)\n",
    "print(x.span())"
   ]
  },
  {
   "cell_type": "code",
   "execution_count": null,
   "id": "939c5915",
   "metadata": {},
   "outputs": [],
   "source": [
    "print(x.string)"
   ]
  },
  {
   "cell_type": "code",
   "execution_count": null,
   "id": "3de85040",
   "metadata": {},
   "outputs": [],
   "source": [
    "x.group()"
   ]
  },
  {
   "cell_type": "code",
   "execution_count": null,
   "id": "0c7df2df",
   "metadata": {},
   "outputs": [],
   "source": [
    "## Making a Calculator program using the Regular expresios...\n",
    "\n",
    "class calculator:\n",
    "    def __init__(self,expression):\n",
    "        self.expression = expression\n",
    "    def process(self):\n",
    "        import re\n",
    "        #prepating the expression...\n",
    "        x = re.search('[a-zA-Z]',self.expression)\n",
    "        if x:\n",
    "            return 'please enter the numberical characters with arthimetice operations only'\n",
    "    \n",
    "    \n",
    "x = calculator('345**+43')\n",
    "print(x.process())"
   ]
  },
  {
   "cell_type": "code",
   "execution_count": null,
   "id": "17b6d425",
   "metadata": {},
   "outputs": [],
   "source": [
    "!pip install camelcase"
   ]
  },
  {
   "cell_type": "code",
   "execution_count": null,
   "id": "b2aa9aeb",
   "metadata": {},
   "outputs": [],
   "source": [
    "import camelcase"
   ]
  },
  {
   "cell_type": "code",
   "execution_count": null,
   "id": "7bb66582",
   "metadata": {},
   "outputs": [],
   "source": [
    "a"
   ]
  },
  {
   "cell_type": "code",
   "execution_count": null,
   "id": "5ab27111",
   "metadata": {},
   "outputs": [],
   "source": [
    "c = camelcase.CamelCase()\n",
    "c.hump(a)"
   ]
  },
  {
   "cell_type": "code",
   "execution_count": null,
   "id": "15110156",
   "metadata": {},
   "outputs": [],
   "source": [
    "try:\n",
    "  f = open(\"demofile.txt\")\n",
    "  try:\n",
    "    f.write(\"Lorum Ipsum\")\n",
    "  except:\n",
    "    print(\"Something went wrong when writing to the file\")\n",
    "  finally:\n",
    "    f.close()\n",
    "except:\n",
    "  print(\"Something went wrong when opening the file\")"
   ]
  },
  {
   "cell_type": "code",
   "execution_count": null,
   "id": "09128bd4",
   "metadata": {},
   "outputs": [],
   "source": [
    "x = -1\n",
    "\n",
    "if x < 0:\n",
    "    raise Exception(\"Sorry, no numbers below zero\") # we can raise excepting..."
   ]
  },
  {
   "cell_type": "code",
   "execution_count": null,
   "id": "6b2bfb15",
   "metadata": {},
   "outputs": [],
   "source": [
    "#raise type error...\n",
    "a = '56'\n",
    "if not type(a) is  int:\n",
    "    raise Exception('TypeError()')"
   ]
  },
  {
   "cell_type": "code",
   "execution_count": null,
   "id": "fe8dae7f",
   "metadata": {},
   "outputs": [],
   "source": [
    "def cal(a,b):\n",
    "    if type(a) is not int or type(b) is not int:\n",
    "        raise Exception('TypeError()')\n",
    "    else:\n",
    "        try:\n",
    "            if b == 0:\n",
    "                raise Exception('NotDividedBy Zero()')\n",
    "            else:\n",
    "                return a/b\n",
    "        except:\n",
    "            print('someting problem with the input')\n",
    "        finally:\n",
    "            print('Program finished')\n",
    "        \n",
    "        \n",
    "print('The result is {0:.5} : {0:.3f}'.format(cal(56,89)))"
   ]
  },
  {
   "cell_type": "code",
   "execution_count": null,
   "id": "ad75bf3d",
   "metadata": {
    "scrolled": true
   },
   "outputs": [],
   "source": [
    "print('The result is  is : {0:.3f}'.format(cal(56,89)))"
   ]
  },
  {
   "cell_type": "code",
   "execution_count": null,
   "id": "abe7b8f2",
   "metadata": {},
   "outputs": [],
   "source": [
    "myorder = \"I have a {carname}, it is a {model}.\"\n",
    "print(myorder.format(carname = \"Ford\", model = \"Mustang\"))"
   ]
  },
  {
   "cell_type": "code",
   "execution_count": null,
   "id": "ce3821a3",
   "metadata": {},
   "outputs": [],
   "source": [
    "r = cal(56,89)\n",
    "print('The result {a} / {b}   is : {0:.3f}'.format(r,a =56,b=89))"
   ]
  },
  {
   "cell_type": "markdown",
   "id": "69c47f80",
   "metadata": {},
   "source": [
    "##### File Handling...."
   ]
  },
  {
   "cell_type": "markdown",
   "id": "3d31e390",
   "metadata": {},
   "source": [
    "### Reading Files in python..."
   ]
  },
  {
   "cell_type": "code",
   "execution_count": 136,
   "id": "70dae1ee",
   "metadata": {},
   "outputs": [],
   "source": [
    "f = open(\"sample.txt\",'w')\n",
    "f.write (\"Hello! Welcome to demofile.txt\\nThis file is for testing purposes. \\nGood Luck!\")\n",
    "f.close()"
   ]
  },
  {
   "cell_type": "code",
   "execution_count": 148,
   "id": "3a0a48d5",
   "metadata": {},
   "outputs": [
    {
     "name": "stdout",
     "output_type": "stream",
     "text": [
      "Hello! Welcome to demofile.txt\n",
      "This file is for testing purposes. \n",
      "Good Luck!\n",
      "Hello! Welcome to demofile.txt\n",
      "This file is for testing purposes. \n",
      "Good Luck!\n"
     ]
    }
   ],
   "source": [
    "with open('sample.txt','r') as file:\n",
    "    f = file.read()\n",
    "    print(f)\n",
    "    file.seek(0)\n",
    "    print(file.read())\n",
    "    file.close()"
   ]
  },
  {
   "cell_type": "code",
   "execution_count": 176,
   "id": "ceaa5099",
   "metadata": {},
   "outputs": [
    {
     "name": "stdout",
     "output_type": "stream",
     "text": [
      "Hello! Welcome to demofile.txt\n",
      "\n"
     ]
    }
   ],
   "source": [
    "with open('sample.txt','r') as file:\n",
    "    f = file.readline()\n",
    "    print(f)\n",
    "    file.close()"
   ]
  },
  {
   "cell_type": "code",
   "execution_count": 270,
   "id": "55972701",
   "metadata": {},
   "outputs": [
    {
     "name": "stdout",
     "output_type": "stream",
     "text": [
      "Bala is bad\n",
      "he is waste\n"
     ]
    }
   ],
   "source": [
    "### write and append files...\n",
    "with open('sample.txt','w+') as file:\n",
    "    f = file.write('Bala is bad\\nhe is waste')\n",
    "    file.seek(0,0)\n",
    "    print(file.read())\n",
    "    file.close()"
   ]
  },
  {
   "cell_type": "code",
   "execution_count": 287,
   "id": "e485171b",
   "metadata": {},
   "outputs": [
    {
     "name": "stdout",
     "output_type": "stream",
     "text": [
      "\n",
      "Stupid things\n"
     ]
    }
   ],
   "source": [
    "with open('sample.txt','a+') as file:\n",
    "    f = file.write('\\nStupid things')\n",
    "    file.seek(0)\n",
    "    print(file.read())"
   ]
  },
  {
   "cell_type": "code",
   "execution_count": 288,
   "id": "99da366f",
   "metadata": {},
   "outputs": [],
   "source": [
    "###Delete files..."
   ]
  },
  {
   "cell_type": "code",
   "execution_count": 289,
   "id": "2f3ffd0c",
   "metadata": {},
   "outputs": [],
   "source": [
    "import os"
   ]
  },
  {
   "cell_type": "code",
   "execution_count": 290,
   "id": "958f3b2f",
   "metadata": {},
   "outputs": [],
   "source": [
    "os.remove('sample.txt')"
   ]
  },
  {
   "cell_type": "code",
   "execution_count": 316,
   "id": "d79de38b",
   "metadata": {},
   "outputs": [
    {
     "name": "stdout",
     "output_type": "stream",
     "text": [
      "The file doesnot exits...\n"
     ]
    }
   ],
   "source": [
    "if os.path.exists('sampel.txt'):\n",
    "    with open('sample.txt','r') as file:\n",
    "        f = file.read()\n",
    "        print(f)\n",
    "        file.close()\n",
    "else :\n",
    "    print('The file doesnot exits...')"
   ]
  },
  {
   "cell_type": "code",
   "execution_count": 318,
   "id": "2b5d5a34",
   "metadata": {},
   "outputs": [
    {
     "ename": "FileExistsError",
     "evalue": "[WinError 183] Cannot create a file when that file already exists: 'Bala'",
     "output_type": "error",
     "traceback": [
      "\u001b[1;31m---------------------------------------------------------------------------\u001b[0m",
      "\u001b[1;31mFileExistsError\u001b[0m                           Traceback (most recent call last)",
      "\u001b[1;32m~\\AppData\\Local\\Temp\\ipykernel_9956\\337470433.py\u001b[0m in \u001b[0;36m<module>\u001b[1;34m\u001b[0m\n\u001b[1;32m----> 1\u001b[1;33m \u001b[0mos\u001b[0m\u001b[1;33m.\u001b[0m\u001b[0mmkdir\u001b[0m\u001b[1;33m(\u001b[0m\u001b[1;34m'Bala'\u001b[0m\u001b[1;33m)\u001b[0m\u001b[1;33m\u001b[0m\u001b[1;33m\u001b[0m\u001b[0m\n\u001b[0m",
      "\u001b[1;31mFileExistsError\u001b[0m: [WinError 183] Cannot create a file when that file already exists: 'Bala'"
     ]
    }
   ],
   "source": [
    "os.mkdir('Bala')"
   ]
  },
  {
   "cell_type": "code",
   "execution_count": 319,
   "id": "8b2d3a05",
   "metadata": {},
   "outputs": [],
   "source": [
    "os.rmdir('Bala')"
   ]
  },
  {
   "cell_type": "code",
   "execution_count": null,
   "id": "0996eeda",
   "metadata": {},
   "outputs": [],
   "source": []
  }
 ],
 "metadata": {
  "kernelspec": {
   "display_name": "Python 3 (ipykernel)",
   "language": "python",
   "name": "python3"
  },
  "language_info": {
   "codemirror_mode": {
    "name": "ipython",
    "version": 3
   },
   "file_extension": ".py",
   "mimetype": "text/x-python",
   "name": "python",
   "nbconvert_exporter": "python",
   "pygments_lexer": "ipython3",
   "version": "3.9.13"
  }
 },
 "nbformat": 4,
 "nbformat_minor": 5
}
